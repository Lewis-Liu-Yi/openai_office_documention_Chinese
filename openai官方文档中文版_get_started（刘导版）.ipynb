{
 "cells": [
  {
   "cell_type": "markdown",
   "id": "9547feab",
   "metadata": {},
   "source": [
    "<strong><font size=\"1\">刘导出品，必是精品</font></strong>"
   ]
  },
  {
   "cell_type": "markdown",
   "id": "3f9cf7a9",
   "metadata": {},
   "source": [
    "<strong><font size=\"6\">简介</font></strong>"
   ]
  },
  {
   "cell_type": "markdown",
   "id": "a43185e9",
   "metadata": {},
   "source": [
    "<strong><font size=\"5\">概述</font></strong>"
   ]
  },
  {
   "cell_type": "markdown",
   "id": "6583aa68",
   "metadata": {},
   "source": [
    "寻找聊天 GPT? 请访问 chat.openai.com"
   ]
  },
  {
   "cell_type": "markdown",
   "id": "5b9ef341",
   "metadata": {},
   "source": [
    "OpenAI API 可以应用于任何需要理解或生成自然语言和代码的任务。OpenAI API 还可用于生成和编辑图像或将语音转换为文本。我们提供一系列具有不同功能和价格的模型，以及可以微调模型的功能。"
   ]
  },
  {
   "cell_type": "markdown",
   "id": "8fe309e6",
   "metadata": {},
   "source": [
    "<strong><font size=\"5\">资源</font></strong>"
   ]
  },
  {
   "cell_type": "markdown",
   "id": "ed2c9fc9",
   "metadata": {},
   "source": [
    "在平台做实验：https://platform.openai.com/playground"
   ]
  },
  {
   "cell_type": "markdown",
   "id": "2f05f342",
   "metadata": {},
   "source": [
    "阅读 API 文档：https://platform.openai.com/docs/api-reference"
   ]
  },
  {
   "cell_type": "markdown",
   "id": "f077bd63",
   "metadata": {},
   "source": [
    "访问帮助中心：https://help.openai.com"
   ]
  },
  {
   "cell_type": "markdown",
   "id": "f200d6a1",
   "metadata": {},
   "source": [
    "查看当前 API 状态：https://status.openai.com"
   ]
  },
  {
   "cell_type": "markdown",
   "id": "4ce9411c",
   "metadata": {},
   "source": [
    "查看 OpenAI 开发者论坛：https://community.openai.com"
   ]
  },
  {
   "cell_type": "markdown",
   "id": "0936e8e8",
   "metadata": {},
   "source": [
    "了解我们的使用条款：https://openai.com/policies/usage-policies"
   ]
  },
  {
   "cell_type": "markdown",
   "id": "85253406",
   "metadata": {},
   "source": [
    "<strong><font size=\"5\">关键概念</font></strong>"
   ]
  },
  {
   "cell_type": "markdown",
   "id": "c59efc10",
   "metadata": {},
   "source": [
    "<strong><font size=\"4\">GPTs</font></strong>"
   ]
  },
  {
   "cell_type": "markdown",
   "id": "f5505dac",
   "metadata": {},
   "source": [
    "OpenAI 的 GPT (generative pre-trained transformer)模型已经被训练得可以理解自然语言和代码。GPTs 根据其输入提供输出。GPT 的输入也被称为“prompt”。设计一个提示符实质上就是如何“编码”一个 GPT 模型，通常需要提供如何能够成功完成任务的说明或一些示例。GPTs 可以用于各种各样的任务，包括内容或代码生成、摘要、对话、创造性写作等等。在我们的 GPT 指南和 GPT 最佳实践指南中可以阅读到更多内容。"
   ]
  },
  {
   "cell_type": "markdown",
   "id": "8ef66374",
   "metadata": {},
   "source": [
    "<strong><font size=\"4\">向量化</font></strong>"
   ]
  },
  {
   "cell_type": "markdown",
   "id": "51c6da23",
   "metadata": {},
   "source": [
    "向量化是一段数据(例如一些文本)的向量表示，目的是保留其内容和/或含义的各个方面。在某种程度上相似的数据块往往比不相关的数据向量更相近。OpenAI 提供了文本向量化模型，它将文本字符串作为输入，并生成一个向量作为输出。向量化对于搜索、聚类、推荐、异常检测、分类等等都很有用。在我们的向量化指南中阅读更多关于向量化的内容。"
   ]
  },
  {
   "cell_type": "markdown",
   "id": "89d410df",
   "metadata": {},
   "source": [
    "<strong><font size=\"4\">词元</font></strong>"
   ]
  },
  {
   "cell_type": "markdown",
   "id": "44a6b3f2",
   "metadata": {},
   "source": [
    "GPT 和向量化模型处理的文本被称为词元。词元表示常见的字符序列。例如，字符串“ tokenization”被分解为“ token”和“ ization”，而像“ the”这样的简短而常见的单词被表示为单个词元。注意，在句子中，每个单词的第一个词元通常以空格字符开头。通过我们的词元检测工具来测试特定的字符串，并查看如何将它们转换为词元。通常来说，对于英文文本，1个词元大约是4个字符或0.75个单词。"
   ]
  },
  {
   "cell_type": "markdown",
   "id": "113358a8",
   "metadata": {},
   "source": [
    "需要记住的一个限制是，对于 GPT 模型，提示和生成的输出组合必须不超过模型的最大上下文长度。对于向量化模型(不输出词元) ，输入必须短于模型的最大上下文长度。每个 GPT 和向量化模型的最大上下文长度可以在模型索引中找到。"
   ]
  },
  {
   "cell_type": "markdown",
   "id": "ed5c0d88",
   "metadata": {},
   "source": [
    "<strong><font size=\"5\">指南</font></strong>"
   ]
  },
  {
   "cell_type": "markdown",
   "id": "bd04cb28",
   "metadata": {},
   "source": [
    "进入我们的指南，了解更多。"
   ]
  },
  {
   "cell_type": "markdown",
   "id": "dff9397b",
   "metadata": {},
   "source": [
    "<strong>快速入门教程</strong>：通过构建一个轻量级应用来学习</br>\n",
    "https://platform.openai.com/docs/quickstart"
   ]
  },
  {
   "cell_type": "markdown",
   "id": "6af8f0bb",
   "metadata": {},
   "source": [
    "<strong>GPT</strong>：了解如何生成文本</br>https://platform.openai.com/docs/guides/gpt"
   ]
  },
  {
   "cell_type": "markdown",
   "id": "11cae458",
   "metadata": {},
   "source": [
    "<strong>GPT最佳实例</strong>：学习使用GPT模型构建的最佳实例</br>https://platform.openai.com/docs/guides/gpt-best-practices"
   ]
  },
  {
   "cell_type": "markdown",
   "id": "e031cbeb",
   "metadata": {},
   "source": [
    "<strong>向量化</strong>：学习如何搜索、分类和比较文本</br>https://platform.openai.com/docs/guides/embeddings/what-are-embeddings"
   ]
  },
  {
   "cell_type": "markdown",
   "id": "a801640d",
   "metadata": {},
   "source": [
    "<strong>语音输入</strong>：学习将语音转化为文字</br>https://platform.openai.com/docs/guides/speech-to-text"
   ]
  },
  {
   "cell_type": "markdown",
   "id": "f6292647",
   "metadata": {},
   "source": [
    "<strong>图像生成</strong>：了解如何生成和编辑图像</br>https://platform.openai.com/docs/guides/images/introduction"
   ]
  },
  {
   "cell_type": "markdown",
   "id": "a6b2c9e2",
   "metadata": {},
   "source": [
    "<strong>微调</strong>：了解如何用您自己的案例训练模型</br>https://platform.openai.com/docs/guides/fine-tuning"
   ]
  },
  {
   "cell_type": "markdown",
   "id": "ef5f6d2f",
   "metadata": {},
   "source": [
    "<strong><font size=\"1\">刘导出品，必是精品</font></strong>"
   ]
  },
  {
   "cell_type": "markdown",
   "id": "42d5510a",
   "metadata": {},
   "source": [
    "<strong><font size=\"6\">快速入门</font></strong>"
   ]
  },
  {
   "cell_type": "markdown",
   "id": "7ca8570b",
   "metadata": {},
   "source": [
    "OpenAI 已经培训出了非常善于理解和生成文本的前沿语言模型。我们的 API 提供了对这些模型的访问，实际上可以用来解决涉及处理语言的任何任务。"
   ]
  },
  {
   "cell_type": "markdown",
   "id": "a3f8ea7e",
   "metadata": {},
   "source": [
    "在本快速入门教程中，您将构建一个简单的应用程序。在这个过程中，您将学习关键的概念和技术，这些概念和技术对于今后在任何任务中使用 API 都至关重要，包括:"
   ]
  },
  {
   "cell_type": "markdown",
   "id": "78c0ec34",
   "metadata": {},
   "source": [
    "·内容生成"
   ]
  },
  {
   "cell_type": "markdown",
   "id": "4d9705a3",
   "metadata": {},
   "source": [
    "·总结"
   ]
  },
  {
   "cell_type": "markdown",
   "id": "1538c437",
   "metadata": {},
   "source": [
    "·分类、分组和情感分析"
   ]
  },
  {
   "cell_type": "markdown",
   "id": "6e1d2b37",
   "metadata": {},
   "source": [
    "·数据提取"
   ]
  },
  {
   "cell_type": "markdown",
   "id": "2fd292cd",
   "metadata": {},
   "source": [
    "·翻译"
   ]
  },
  {
   "cell_type": "markdown",
   "id": "b5624c03",
   "metadata": {},
   "source": [
    "·更多"
   ]
  },
  {
   "cell_type": "markdown",
   "id": "f9e3615f",
   "metadata": {},
   "source": [
    "<strong><font size=\"5\">简介</font></strong>"
   ]
  },
  {
   "cell_type": "markdown",
   "id": "bed20eda",
   "metadata": {},
   "source": [
    "返回词(completion)接口是我们的 API 的核心，它提供了一个非常灵活和强大的简单接口。您输入一些文本作为提示词，API 将返回一个文本返回词，该文本完成将尝试匹配您给出的任何指令或上下文。"
   ]
  },
  {
   "cell_type": "markdown",
   "id": "95d0ba1c",
   "metadata": {},
   "source": [
    "提示词：为冰淇淋店写一个宣传语"
   ]
  },
  {
   "cell_type": "markdown",
   "id": "04d8c7ef",
   "metadata": {},
   "source": [
    "返回词：我们每挖一个都会报以微笑！"
   ]
  },
  {
   "cell_type": "markdown",
   "id": "0bcfe426",
   "metadata": {},
   "source": [
    "你可以把它看作是一个非常先进的自动返回功能ーー这个模型会处理你的文本提示，并试图预测接下来最有可能发生的事情。"
   ]
  },
  {
   "cell_type": "markdown",
   "id": "29f4f2dc",
   "metadata": {},
   "source": [
    "<strong><font size=\"5\">从一条指令开始</font></strong>"
   ]
  },
  {
   "cell_type": "markdown",
   "id": "088d23cf",
   "metadata": {},
   "source": [
    "假设您想要创建一个宠物名称生成器，因为从零想出名字是很困难的！"
   ]
  },
  {
   "cell_type": "markdown",
   "id": "c221427f",
   "metadata": {},
   "source": [
    "首先，您需要一个提示词来表明您想要什么。让我们从一个指令开始，提交此提示以生成您的第一个完成操作。"
   ]
  },
  {
   "cell_type": "markdown",
   "id": "9bc989b3",
   "metadata": {},
   "source": [
    "·给一匹马取个名字"
   ]
  },
  {
   "cell_type": "markdown",
   "id": "22170caf",
   "metadata": {},
   "source": [
    "不错! 现在，试着把你的指令说得更具体一些。"
   ]
  },
  {
   "cell_type": "markdown",
   "id": "e1f055c3",
   "metadata": {},
   "source": [
    "·给一匹黑马取个名字"
   ]
  },
  {
   "cell_type": "markdown",
   "id": "c2a6f4b7",
   "metadata": {},
   "source": [
    "如您所见，在提示词中添加一个简单的形容词会改变结果返回词。设计提示词实质上就是如何对模型进行“编码”。"
   ]
  },
  {
   "cell_type": "markdown",
   "id": "c1d98ab1",
   "metadata": {},
   "source": [
    "<strong><font size=\"5\">添加一些案例</font></strong>"
   ]
  },
  {
   "cell_type": "markdown",
   "id": "d49e4cff",
   "metadata": {},
   "source": [
    "精心制作好的指令对于获得好的结果很重要，但有时它们还不够。让我们尝试使您的指令更加复杂。"
   ]
  },
  {
   "cell_type": "markdown",
   "id": "d9002421",
   "metadata": {},
   "source": [
    "·给三匹马分别用超级英雄命名"
   ]
  },
  {
   "cell_type": "markdown",
   "id": "3ea11484",
   "metadata": {},
   "source": [
    "这个返回词并不完全是我们想要的。这些名字都很普通，而且这个模型似乎没有在我们的指令中提到马的部分。让我们看看我们是否能让它提出一些更相关的建议。"
   ]
  },
  {
   "cell_type": "markdown",
   "id": "e76ffd5e",
   "metadata": {},
   "source": [
    "在许多情况下，显示和告诉模型您想要什么都是有帮助的。在提示符中添加示例可以帮助沟通模式或细微差别。尝试提交这个提示，其中包括下面一对例子。"
   ]
  },
  {
   "cell_type": "markdown",
   "id": "dd76595a",
   "metadata": {},
   "source": [
    "· 给三种动物用超级英雄命名"
   ]
  },
  {
   "cell_type": "markdown",
   "id": "b52a7f00",
   "metadata": {},
   "source": [
    "·当然！以下是三个动物以及它们对应的超级英雄名字：\n",
    "\n",
    "1. 狮子：雷霆狮侠（Thunderlion）\n",
    "2. 鹰：飞翼鹰眼（Winghawk）\n",
    "3. 熊：铁甲巨熊（Ironbear）"
   ]
  },
  {
   "cell_type": "markdown",
   "id": "5dbc23d0",
   "metadata": {},
   "source": [
    "漂亮！添加给定输入的预期输出示例有助于模型提供我们要查找的名称类型。"
   ]
  },
  {
   "cell_type": "markdown",
   "id": "43bbd09c",
   "metadata": {},
   "source": [
    "<strong><font size=\"5\">调整参数</font></strong>"
   ]
  },
  {
   "cell_type": "markdown",
   "id": "6bbb7f70",
   "metadata": {},
   "source": [
    "提示词设计并不是您可以使用的唯一工具。还可以通过调整参数来控制完成情况。最重要的参数之一就是temperature。"
   ]
  },
  {
   "cell_type": "markdown",
   "id": "bb2684fa",
   "metadata": {},
   "source": [
    "您可能已经注意到，如果您在上面的示例中多次提交相同的提示，那么模型将总是返回相同或非常相似的返回词。这是因为您的temperature设置为0。"
   ]
  },
  {
   "cell_type": "markdown",
   "id": "63206423",
   "metadata": {},
   "source": [
    "尝试重新提交相同的提示几次，temperature设置为1。"
   ]
  },
  {
   "cell_type": "markdown",
   "id": "ce7232e4",
   "metadata": {},
   "source": [
    "看到发生了什么吗? 当temperature高于0时，每次提交相同的提示都会导致不同的结果。"
   ]
  },
  {
   "cell_type": "markdown",
   "id": "d1315e83",
   "metadata": {},
   "source": [
    "请记住，该模型预测哪些文本最有可能遵循前面的文本。temperature是介于0和1之间的一个值，它基本上可以让您控制模型在进行这些预测时应该有多大的信心。降低temperature意味着更少的风险，并且完成将更加准确和确定。提高的temperature将导致更多不同的返回词。"
   ]
  },
  {
   "cell_type": "markdown",
   "id": "80a60f3e",
   "metadata": {},
   "source": [
    "对于您的宠物名称生成器，您可能希望能够生成许多名字。中等temperature 0.6应该可以。"
   ]
  },
  {
   "cell_type": "markdown",
   "id": "230a7b49",
   "metadata": {},
   "source": [
    "<strong><font size=\"1\">刘导出品，必是精品</font></strong>"
   ]
  },
  {
   "cell_type": "markdown",
   "id": "7e4af586",
   "metadata": {},
   "source": [
    "<strong><font size=\"6\">开发你的应用</font></strong>"
   ]
  },
  {
   "cell_type": "markdown",
   "id": "001b466f",
   "metadata": {},
   "source": [
    "现在你已经找到了一个很好的提示符和设置，可以开始构建宠物名生成器了！我们已经编写了一些代码作为开始ーー按照下面的说明下载代码并运行应用程序。"
   ]
  },
  {
   "cell_type": "markdown",
   "id": "6b76e78f",
   "metadata": {},
   "source": [
    "<strong><font size=\"5\">安装</font></strong>"
   ]
  },
  {
   "cell_type": "markdown",
   "id": "adfa8d45",
   "metadata": {},
   "source": [
    "如果您没有安装python，请从这里安装它：https://www.python.org/downloads/\n",
    "，然后通过克隆这个空间下载代码：git clone https://github.com/openai/openai-quickstart-python.git"
   ]
  },
  {
   "cell_type": "markdown",
   "id": "fbc04a4d",
   "metadata": {},
   "source": [
    "如果您不喜欢使用 git，也可以使用这个 zip 文件下载代码：https://github.com/openai/openai-quickstart-python/archive/refs/heads/master.zip"
   ]
  },
  {
   "cell_type": "markdown",
   "id": "054e3af4",
   "metadata": {},
   "source": [
    "<strong><font size=\"5\">添加你的API秘钥</font></strong>"
   ]
  },
  {
   "cell_type": "markdown",
   "id": "3db51872",
   "metadata": {},
   "source": [
    "导航到项目目录并复制示例环境变量文件。"
   ]
  },
  {
   "cell_type": "markdown",
   "id": "62cf637c",
   "metadata": {},
   "source": [
    "cd openai-quickstart-python </br>\n",
    "cp .env.example .env"
   ]
  },
  {
   "cell_type": "markdown",
   "id": "ce7c7d73",
   "metadata": {},
   "source": [
    "复制你的 API 密钥并且在新建的.env文件中设置为 \"OPENAI _ API _ KEY\"。如果你还没有创建密钥，可以在下面进行创建：https://platform.openai.com/account/api-keys"
   ]
  },
  {
   "cell_type": "markdown",
   "id": "a301b2ef",
   "metadata": {},
   "source": [
    "<strong><font size=\"5\">运行应用程序</font></strong>"
   ]
  },
  {
   "cell_type": "markdown",
   "id": "16453c62",
   "metadata": {},
   "source": [
    "在项目目录中运行以下命令来安装包并运行应用程序。在运行命令时，根据您的设置，可能需要键入 python3/pip3而不是 python/pip。"
   ]
  },
  {
   "cell_type": "markdown",
   "id": "b239bbb3",
   "metadata": {},
   "source": [
    "python -m venv venv</br>\n",
    ". venv/bin/activate</br>\n",
    "pip install -r requirements.txt</br>\n",
    "flask run</br>"
   ]
  },
  {
   "cell_type": "markdown",
   "id": "b4c33ac5",
   "metadata": {},
   "source": [
    "在浏览器中打开 http://localhost:5000 ,你会看到宠物名生成器！"
   ]
  },
  {
   "cell_type": "markdown",
   "id": "84067c03",
   "metadata": {},
   "source": [
    "<strong><font size=\"5\">理解代码</font></strong>"
   ]
  },
  {
   "cell_type": "markdown",
   "id": "803de7fc",
   "metadata": {},
   "source": [
    "在 openai-Quick start-python 文件夹中打开 app.py。在底部，你将看到生成我们上面使用的提示词的函数。由于用户将输入不同类型的动物，它会动态地更换提示词中指定动物的部分。"
   ]
  },
  {
   "cell_type": "markdown",
   "id": "b37d890d",
   "metadata": {},
   "source": [
    "def generate_prompt(animal):</br>\n",
    "    return \"\"\"Suggest three names for an animal that is a superhero.</br>\n",
    "</br>\n",
    "Animal: Cat</br>\n",
    "Names: Captain Sharpclaw, Agent Fluffball, The Incredible Feline</br>\n",
    "Animal: Dog</br>\n",
    "Names: Ruff the Protector, Wonder Canine, Sir Barks-a-Lot</br>\n",
    "Animal: {}</br>\n",
    "Names:\"\"\".format(animal.capitalize())</br>"
   ]
  },
  {
   "cell_type": "markdown",
   "id": "ff42e9cd",
   "metadata": {},
   "source": [
    "在 app.py 的第14行，你将看到发送实际 API 请求的代码。如上所述，它使用temperature为0.6的返回词。"
   ]
  },
  {
   "cell_type": "markdown",
   "id": "1545ff9f",
   "metadata": {},
   "source": [
    "response = openai.Completion.create(</br>\n",
    "  model=\"text-davinci-003\",</br>\n",
    "  prompt=generate_prompt(animal),</br>\n",
    "  temperature=0.6</br>\n",
    ")</br>"
   ]
  },
  {
   "cell_type": "markdown",
   "id": "42c1b85b",
   "metadata": {},
   "source": [
    "<strong><font size=\"5\">定价</font></strong>"
   ]
  },
  {
   "cell_type": "markdown",
   "id": "a34ea2cd",
   "metadata": {},
   "source": [
    "我们提供一系列不同性能和价格的模型。在本教程中，我们使用 text-davinci-003。我们建议使用这个模型或 gpt-3.5-turbo 进行试验，因为他们将产生最好的结果。一旦开始运行，你就可以看到其他模型是否能够以更低的延迟和成本产生相同的结果。不然，你可能需要使用更强大的模型，如 gpt-4。"
   ]
  },
  {
   "cell_type": "markdown",
   "id": "67370ffc",
   "metadata": {},
   "source": [
    "在单个请求(提示词和返回词)中处理的词元总数不能超过模型的最大上下文长度。对于大多数型号，这是4,096个词元或大约3,000个单词。根据经验粗略计算，对于英文文本，1个词元大约是4个字符或0.75个单词。"
   ]
  },
  {
   "cell_type": "markdown",
   "id": "ee757b40",
   "metadata": {},
   "source": [
    "定价是每1000个词元现收现付，在头3个月可以使用5美元的免费额度。"
   ]
  },
  {
   "cell_type": "markdown",
   "id": "a21b855b",
   "metadata": {},
   "source": [
    "<strong><font size=\"5\">关闭</font></strong>"
   ]
  },
  {
   "cell_type": "markdown",
   "id": "01a685fd",
   "metadata": {},
   "source": [
    "这些概念和技术将大大有助于您构建自己的应用程序。也就是说，这个简单的例子只演示了一小部分的结果！返回词足够灵活，可以解决几乎任何语言处理任务，包括内容生成、摘要、语义搜索、主题标记、情感分析等等。"
   ]
  },
  {
   "cell_type": "markdown",
   "id": "3cc17539",
   "metadata": {},
   "source": [
    "需要记住的一个限制是，对于大多数模型，一个 API 请求在提示词和返回词之间只能处理多达4,096个词元。"
   ]
  },
  {
   "cell_type": "markdown",
   "id": "9bd12473",
   "metadata": {},
   "source": [
    "对于更高级的任务，您可能会发现自己希望能够提供比单个提示符所能容纳的更多示例或上下文。对于这样的高级任务，微调 API 是一个很好的选择。微调允许您提供数百甚至数千个示例来为您的特定需求定制模型。"
   ]
  },
  {
   "cell_type": "markdown",
   "id": "b904d5bf",
   "metadata": {},
   "source": [
    "<strong><font size=\"1\">刘导出品，必是精品</font></strong>"
   ]
  },
  {
   "cell_type": "markdown",
   "id": "0a5242cd",
   "metadata": {},
   "source": [
    "<strong><font size=\"6\">库</font></strong>"
   ]
  },
  {
   "cell_type": "markdown",
   "id": "edf7abd9",
   "metadata": {},
   "source": [
    "<strong><font size=\"5\">python库</font></strong>"
   ]
  },
  {
   "cell_type": "markdown",
   "id": "2f7efa34",
   "metadata": {},
   "source": [
    "我们提供了一个 Python 库，您可以按照以下方式安装它:"
   ]
  },
  {
   "cell_type": "markdown",
   "id": "e24df22d",
   "metadata": {},
   "source": [
    "pip install openai"
   ]
  },
  {
   "cell_type": "markdown",
   "id": "da198572",
   "metadata": {},
   "source": [
    "安装之后，您可以使用绑定和密钥运行以下命令:"
   ]
  },
  {
   "cell_type": "markdown",
   "id": "2eee89a7",
   "metadata": {},
   "source": [
    "import os</br>\n",
    "import openai</br>\n",
    "\n",
    "openai.api_key = os.getenv(\"OPENAI_API_KEY\")</br>\n",
    "\n",
    "chat_completion = openai.ChatCompletion.create(model=\"gpt-3.5-turbo\", messages=[{\"role\": \"user\", \"content\": \"Hello world\"}])</br>"
   ]
  },
  {
   "cell_type": "markdown",
   "id": "732eaeee",
   "metadata": {},
   "source": [
    "这些绑定还将安装一个命令行实用程序，您可以按照以下方式使用:"
   ]
  },
  {
   "cell_type": "markdown",
   "id": "68b476b3",
   "metadata": {},
   "source": [
    "openai api chat_completions.create -m gpt-3.5-turbo -g user \"Hello world\""
   ]
  },
  {
   "cell_type": "markdown",
   "id": "abc5e572",
   "metadata": {},
   "source": [
    "<strong><font size=\"5\">Node.js库</font></strong>"
   ]
  },
  {
   "cell_type": "markdown",
   "id": "e00b3b5c",
   "metadata": {},
   "source": [
    "我们还有一个 Node.js 库，您可以通过在 Node.js 项目目录中运行以下命令来安装它:"
   ]
  },
  {
   "cell_type": "markdown",
   "id": "f3364f22",
   "metadata": {},
   "source": [
    "npm install openai"
   ]
  },
  {
   "cell_type": "markdown",
   "id": "dd955099",
   "metadata": {},
   "source": [
    "安装完成后，您可以使用库和您的密钥运行以下命令:"
   ]
  },
  {
   "cell_type": "markdown",
   "id": "33524a21",
   "metadata": {},
   "source": [
    "const { Configuration, OpenAIApi } = require(\"openai\");</br>\n",
    "const configuration = new Configuration({</br>\n",
    "    apiKey: process.env.OPENAI_API_KEY,</br>\n",
    "});</br>\n",
    "const openai = new OpenAIApi(configuration);</br>\n",
    "const chat_completion = await openai.createChatCompletion({</br>\n",
    "    model: \"gpt-3.5-turbo\",</br>\n",
    "    messages: [{ role: \"user\", content: \"Hello world\" }],</br>\n",
    "});</br>"
   ]
  },
  {
   "cell_type": "markdown",
   "id": "98c0bc31",
   "metadata": {},
   "source": [
    "<strong><font size=\"5\">Azure OpenAI 库</font></strong>"
   ]
  },
  {
   "cell_type": "markdown",
   "id": "5fb008ac",
   "metadata": {},
   "source": [
    "微软的 Azure 团队维护并兼容 OpenAI API 和 Azure OpenAI 服务的库。阅读下面的库文档，了解如何在 OpenAI API 中使用它们。"
   ]
  },
  {
   "cell_type": "markdown",
   "id": "5232b46b",
   "metadata": {},
   "source": [
    "https://github.com/Azure/azure-sdk-for-net/tree/main/sdk/openai/Azure.AI.OpenAI"
   ]
  },
  {
   "cell_type": "markdown",
   "id": "209b7e5a",
   "metadata": {},
   "source": [
    "https://github.com/Azure/azure-sdk-for-js/tree/main/sdk/openai/openai"
   ]
  },
  {
   "cell_type": "markdown",
   "id": "40ba31aa",
   "metadata": {},
   "source": [
    "https://github.com/Azure/azure-sdk-for-java/tree/main/sdk/openai/azure-ai-openai"
   ]
  },
  {
   "cell_type": "markdown",
   "id": "925a6cfe",
   "metadata": {},
   "source": [
    "<strong><font size=\"5\">社区开源库</font></strong>"
   ]
  },
  {
   "cell_type": "markdown",
   "id": "16107e86",
   "metadata": {},
   "source": [
    "下面的库是由更广泛的开发人员社区构建和维护的。如果您想在这里添加一个新的库，请按照我们的帮助中心文章中关于添加社区库的说明进行操作：https://help.openai.com/en/articles/6684216-adding-your-api-client-to-the-community-libraries-page 。您还可以在 GitHub 上关注我们的 OpenAPI 规范存储库：https://github.com/openai/openai-openapi ，以便在我们更改 API 时及时获得更新。"
   ]
  },
  {
   "cell_type": "markdown",
   "id": "43bbbb3c",
   "metadata": {},
   "source": [
    "请注意，OpenAI 不会验证这些项目的正确性或安全性。使用它们的风险由您自己承担！"
   ]
  },
  {
   "cell_type": "markdown",
   "id": "9b7fc93b",
   "metadata": {},
   "source": [
    "C# / .NET</br>\n",
    "https://github.com/betalgo/openai</br>\n",
    "https://github.com/OkGoDoIt/OpenAI-API-dotnet</br>\n",
    "https://github.com/RageAgainstThePixel/OpenAI-DotNet</br>"
   ]
  },
  {
   "cell_type": "markdown",
   "id": "53a19346",
   "metadata": {},
   "source": [
    "C++</br>\n",
    "https://github.com/D7EAD/liboai"
   ]
  },
  {
   "cell_type": "markdown",
   "id": "c3f829bb",
   "metadata": {},
   "source": [
    "Clojure</br>\n",
    "https://github.com/wkok/openai-clojure"
   ]
  },
  {
   "cell_type": "markdown",
   "id": "e2ad2f67",
   "metadata": {},
   "source": [
    "Dart/Flutter</br>\n",
    "https://github.com/anasfik/openai"
   ]
  },
  {
   "cell_type": "markdown",
   "id": "86e3b208",
   "metadata": {},
   "source": [
    "Delphi</br>\n",
    "https://github.com/HemulGM/DelphiOpenAI"
   ]
  },
  {
   "cell_type": "markdown",
   "id": "8827509a",
   "metadata": {},
   "source": [
    "Elixir</br>\n",
    "https://github.com/mgallo/openai.ex"
   ]
  },
  {
   "cell_type": "markdown",
   "id": "b7d1ff39",
   "metadata": {},
   "source": [
    "Go</br>\n",
    "https://github.com/sashabaranov/go-gpt3"
   ]
  },
  {
   "cell_type": "markdown",
   "id": "b929894e",
   "metadata": {},
   "source": [
    "Java</br>\n",
    "https://github.com/TheoKanning/openai-java"
   ]
  },
  {
   "cell_type": "markdown",
   "id": "d99ec69b",
   "metadata": {},
   "source": [
    "Julia</br>\n",
    "https://github.com/rory-linehan/OpenAI.jl"
   ]
  },
  {
   "cell_type": "markdown",
   "id": "2e6a5bbf",
   "metadata": {},
   "source": [
    "Kotlin</br>\n",
    "https://github.com/Aallam/openai-kotlin"
   ]
  },
  {
   "cell_type": "markdown",
   "id": "beba76fe",
   "metadata": {},
   "source": [
    "Node.js</br>\n",
    "https://www.npmjs.com/package/openai-api</br>\n",
    "https://www.npmjs.com/package/openai-api-node</br>\n",
    "https://www.npmjs.com/package/gpt-x</br>\n",
    "https://www.npmjs.com/package/gpt3</br>\n",
    "https://www.npmjs.com/package/gpts</br>\n",
    "https://www.npmjs.com/package/@dalenguyen/openai</br>\n",
    "https://github.com/tectalichq/public-openai-client-js</br>"
   ]
  },
  {
   "cell_type": "markdown",
   "id": "30a78104",
   "metadata": {},
   "source": [
    "PHP</br>\n",
    "https://packagist.org/packages/orhanerday/open-ai</br>\n",
    "https://github.com/tectalichq/public-openai-client-php</br>\n",
    "https://github.com/openai-php/client</br>"
   ]
  },
  {
   "cell_type": "markdown",
   "id": "3a8ed279",
   "metadata": {},
   "source": [
    "Python</br>\n",
    "https://github.com/OthersideAI/chronology"
   ]
  },
  {
   "cell_type": "markdown",
   "id": "250e59d3",
   "metadata": {},
   "source": [
    "R</br>\n",
    "https://github.com/ben-aaron188/rgpt3"
   ]
  },
  {
   "cell_type": "markdown",
   "id": "fef3a6a9",
   "metadata": {},
   "source": [
    "Ruby</br>\n",
    "https://github.com/nileshtrivedi/openai/</br>\n",
    "https://github.com/alexrudall/ruby-openai"
   ]
  },
  {
   "cell_type": "markdown",
   "id": "26cfa837",
   "metadata": {},
   "source": [
    "Rust</br>\n",
    "https://github.com/64bit/async-openai</br>\n",
    "https://github.com/lbkolev/fieri"
   ]
  },
  {
   "cell_type": "markdown",
   "id": "a0322057",
   "metadata": {},
   "source": [
    "Scala</br>\n",
    "https://github.com/cequence-io/openai-scala-client"
   ]
  },
  {
   "cell_type": "markdown",
   "id": "839a6f4b",
   "metadata": {},
   "source": [
    "Swift</br>\n",
    "https://github.com/dylanshine/openai-kit</br>\n",
    "https://github.com/MacPaw/OpenAI/"
   ]
  },
  {
   "cell_type": "markdown",
   "id": "b6de65ae",
   "metadata": {},
   "source": [
    "Unity</br>\n",
    "https://github.com/hexthedev/OpenAi-Api-Unity</br>\n",
    "https://github.com/RageAgainstThePixel/com.openai.unity"
   ]
  },
  {
   "cell_type": "markdown",
   "id": "8624e322",
   "metadata": {},
   "source": [
    "Unreal Engine</br>\n",
    "https://github.com/KellanM/OpenAI-Api-Unreal"
   ]
  },
  {
   "cell_type": "markdown",
   "id": "1e697873",
   "metadata": {},
   "source": [
    "<strong><font size=\"1\">刘导出品，必是精品</font></strong>"
   ]
  },
  {
   "cell_type": "markdown",
   "id": "c0c4fa9a",
   "metadata": {},
   "source": [
    "<strong><font size=\"6\">模型</font></strong>"
   ]
  },
  {
   "cell_type": "markdown",
   "id": "5da77e1c",
   "metadata": {},
   "source": [
    "<strong><font size=\"5\">简介</font></strong>"
   ]
  },
  {
   "cell_type": "markdown",
   "id": "a28d83fc",
   "metadata": {},
   "source": [
    "OpenAI API 由一系列具有不同功能和价格的模型组成。你还可以通过微调对特定需求的原始基础模型进行有限的定制。"
   ]
  },
  {
   "cell_type": "markdown",
   "id": "e649eb43",
   "metadata": {},
   "source": [
    "模型：描述"
   ]
  },
  {
   "cell_type": "markdown",
   "id": "9c75f020",
   "metadata": {},
   "source": [
    "GPT-4: 在3.5的基础上优化的一种模型，同样也能理解和生成自然语言和代码"
   ]
  },
  {
   "cell_type": "markdown",
   "id": "04c178b8",
   "metadata": {},
   "source": [
    "GPT-3.5: 在3.0的基础上优化的一种模型，同样也能理解和生成自然语言和代码"
   ]
  },
  {
   "cell_type": "markdown",
   "id": "55a9f3db",
   "metadata": {},
   "source": [
    "DALL·E: 一种可以用自然语言提示词生层和编辑图片的模型"
   ]
  },
  {
   "cell_type": "markdown",
   "id": "34b3fe1d",
   "metadata": {},
   "source": [
    "Whisper: 一种可以将音频转化为文字的模型"
   ]
  },
  {
   "cell_type": "markdown",
   "id": "45922011",
   "metadata": {},
   "source": [
    "Embeddings: 一种可以将文字转化为数字形式的模型"
   ]
  },
  {
   "cell_type": "markdown",
   "id": "7280b61e",
   "metadata": {},
   "source": [
    "Moderation: 一种可以检测文字是否敏感或者不安全的模型"
   ]
  },
  {
   "cell_type": "markdown",
   "id": "2ec8ecd7",
   "metadata": {},
   "source": [
    "GPT-3: 一种可以理解和生成自然语言的模型"
   ]
  },
  {
   "cell_type": "markdown",
   "id": "76a5802d",
   "metadata": {},
   "source": [
    "Deprecated: 所有被废弃的模型列表"
   ]
  },
  {
   "cell_type": "markdown",
   "id": "0ee50b70",
   "metadata": {},
   "source": [
    "我们还开源了一部分模型，包括Point-E，Whisper，Jukebox，和CLIP"
   ]
  },
  {
   "cell_type": "markdown",
   "id": "c3e82725",
   "metadata": {},
   "source": [
    "访问我们的模型列表：https://platform.openai.com/docs/model-index-for-researchers ,在我们的研究报告上了解更多模型的特征，比如像InstructGPT和GPT-3.5之间的区别"
   ]
  },
  {
   "cell_type": "markdown",
   "id": "7aa65788",
   "metadata": {},
   "source": [
    "<strong><font size=\"5\">模型持续更新</font></strong>"
   ]
  },
  {
   "cell_type": "markdown",
   "id": "ca3ac8d0",
   "metadata": {},
   "source": [
    "随着gpt-3.5-turbo的释放，不分模型也随之更新。我们同时也提供静态模型版本，保证开发者在新模型发布至少三个月内还能继续使用。随着更新节奏，我们也希望人们用不同的案例帮我们评估和提升我们的模型。如果你感兴趣，请打开openai官方评估链接：https://github.com/openai/evals"
   ]
  },
  {
   "cell_type": "markdown",
   "id": "879c27dd",
   "metadata": {},
   "source": [
    "下面是一部分的模型举例，当我们宣布更新，同时也会公布废弃日期。如果你想用最新的模型版本，就压用标准模型名字比如gpt-4或者gpt-3.5-turbo."
   ]
  },
  {
   "attachments": {
    "eb306ee047156ec87816166b8f3be2d.png": {
     "image/png": "[encoded data removed]"
    }
   },
   "cell_type": "markdown",
   "id": "de051766",
   "metadata": {},
   "source": [
    "![eb306ee047156ec87816166b8f3be2d.png](attachment:eb306ee047156ec87816166b8f3be2d.png)"
   ]
  },
  {
   "cell_type": "markdown",
   "id": "f4a5e1f7",
   "metadata": {},
   "source": [
    "在我们的废弃页面了解更多废弃模型：https://platform.openai.com/docs/deprecations"
   ]
  },
  {
   "cell_type": "markdown",
   "id": "0a902c05",
   "metadata": {},
   "source": [
    "<strong><font size=\"5\">GPT4</font></strong>"
   ]
  },
  {
   "cell_type": "markdown",
   "id": "44357133",
   "metadata": {},
   "source": [
    "GPT4现在可以被在我们开发者平台成功支付的人使用。"
   ]
  },
  {
   "cell_type": "markdown",
   "id": "e2728779",
   "metadata": {},
   "source": [
    "GPT-4是一个大型的多模式模型(现在接受文本输入和文本输出，将来还会有图像输入) ，由于它具有更广泛的生活知识和先进的推理能力，它能比我们以前的任何模型更精确地解决困难的问题。与 gpt-3.5-turbo 一样，GPT-4也针对聊天和传统的对话任务进行了优化，二者都用了Chat Completions API ：https://platform.openai.com/docs/api-reference/chat 。了解如何在我们的 GPT 指南中使用 GPT-4：https://platform.openai.com/docs/guides/gpt"
   ]
  },
  {
   "cell_type": "markdown",
   "id": "d781ddc7",
   "metadata": {},
   "source": [
    "模型名称：gpt-4"
   ]
  },
  {
   "cell_type": "markdown",
   "id": "4281e715",
   "metadata": {},
   "source": [
    "描述：比任何 GPT-3.5型号都要强大，能够执行更复杂的任务，并且为聊天进行了优化。发布两周后将会更新迭代。"
   ]
  },
  {
   "cell_type": "markdown",
   "id": "5ae805ae",
   "metadata": {},
   "source": [
    "最大词元：8192"
   ]
  },
  {
   "cell_type": "markdown",
   "id": "893896f1",
   "metadata": {},
   "source": [
    "训练材料：截至2021年9月"
   ]
  },
  {
   "cell_type": "markdown",
   "id": "0652474e",
   "metadata": {},
   "source": [
    "-------------------------------------------------------------------------------------"
   ]
  },
  {
   "cell_type": "markdown",
   "id": "d6d74b4b",
   "metadata": {},
   "source": [
    "模型名称：gpt-4-0613"
   ]
  },
  {
   "cell_type": "markdown",
   "id": "02af8503",
   "metadata": {},
   "source": [
    "2023年6月13日 gpt-4 的数据功能调用静态版。与 gpt-4不同，这个模型不会接收更新，并且在新版本发布后的3个月内将被弃用。"
   ]
  },
  {
   "cell_type": "markdown",
   "id": "9598cbd6",
   "metadata": {},
   "source": [
    "最大词元：8192"
   ]
  },
  {
   "cell_type": "markdown",
   "id": "ee612fbd",
   "metadata": {},
   "source": [
    "训练材料：截至2021年9月"
   ]
  },
  {
   "cell_type": "markdown",
   "id": "c9d258ce",
   "metadata": {},
   "source": [
    "-------------------------------------------------------------------------------------"
   ]
  },
  {
   "cell_type": "markdown",
   "id": "12ba4973",
   "metadata": {},
   "source": [
    "模型名称：gpt-4-32k"
   ]
  },
  {
   "cell_type": "markdown",
   "id": "9cf7c539",
   "metadata": {},
   "source": [
    "描述：与基本的 gpt-4模式功能相同，但是上下文长度为4倍。将用我们最新的模型迭代更新。"
   ]
  },
  {
   "cell_type": "markdown",
   "id": "513da6b6",
   "metadata": {},
   "source": [
    "最大词元：32768"
   ]
  },
  {
   "cell_type": "markdown",
   "id": "45d653c4",
   "metadata": {},
   "source": [
    "训练材料：截至2021年9月"
   ]
  },
  {
   "cell_type": "markdown",
   "id": "860c9643",
   "metadata": {},
   "source": [
    "-------------------------------------------------------------------------------------"
   ]
  },
  {
   "cell_type": "markdown",
   "id": "cee88fb3",
   "metadata": {},
   "source": [
    "模型名称：gpt-4-32k-0613"
   ]
  },
  {
   "cell_type": "markdown",
   "id": "b562811a",
   "metadata": {},
   "source": [
    "描述：2023年6月13日 gpt-4-32k 的数据功能调用静态版。与 gpt-4-32k 不同，这个模型不会接收更新，并且在新版本发布后的3个月内将被弃用。"
   ]
  },
  {
   "cell_type": "markdown",
   "id": "1549d7b8",
   "metadata": {},
   "source": [
    "最大词元：32768"
   ]
  },
  {
   "cell_type": "markdown",
   "id": "c9bb2383",
   "metadata": {},
   "source": [
    "训练材料：截至2021年9月"
   ]
  },
  {
   "cell_type": "markdown",
   "id": "4265a5ad",
   "metadata": {},
   "source": [
    "对于许多基本任务，GPT-4和 GPT-3.5型号之间的差异并不显著。然而，在更复杂的推理情况下，GPT-4比我们以前的任何模型都更厉害。"
   ]
  },
  {
   "cell_type": "markdown",
   "id": "81002a1d",
   "metadata": {},
   "source": [
    "-------------------------------------------------------------------------------------"
   ]
  },
  {
   "cell_type": "markdown",
   "id": "85468865",
   "metadata": {},
   "source": [
    "<strong><font size=\"5\">GPT-3.5</font></strong>"
   ]
  },
  {
   "cell_type": "markdown",
   "id": "68d6ed7f",
   "metadata": {},
   "source": [
    "GPT-3.5模型可以理解和生成自然语言或代码。我们在 GPT-3.5系列中最有能力和性价比最高的模型是 GPT-3.5-turbo，它已经针对聊天进行了优化，同时也适用于传统的对话任务。"
   ]
  },
  {
   "cell_type": "markdown",
   "id": "1ce4c982",
   "metadata": {},
   "source": [
    "模型名称：gpt-3.5-turbo"
   ]
  },
  {
   "cell_type": "markdown",
   "id": "a2717580",
   "metadata": {},
   "source": [
    "描述：GPT-3.5最大可以优化到聊天成本仅为text-davinci-003的1/10。发布两周后将会更新。"
   ]
  },
  {
   "cell_type": "markdown",
   "id": "ba135e16",
   "metadata": {},
   "source": [
    "最大词元：4096"
   ]
  },
  {
   "cell_type": "markdown",
   "id": "3208f74c",
   "metadata": {},
   "source": [
    "训练材料：截至2021年9月"
   ]
  },
  {
   "cell_type": "markdown",
   "id": "2ab76705",
   "metadata": {},
   "source": [
    "-------------------------------------------------------------------------------------"
   ]
  },
  {
   "cell_type": "markdown",
   "id": "61337ac5",
   "metadata": {},
   "source": [
    "模型名称：gpt-3.5-turbo-16k"
   ]
  },
  {
   "cell_type": "markdown",
   "id": "d24ebb96",
   "metadata": {},
   "source": [
    "描述：与标准的 gpt-3.5-turbo 功能相同，但是具有4倍的上下文长度。"
   ]
  },
  {
   "cell_type": "markdown",
   "id": "487dcacc",
   "metadata": {},
   "source": [
    "最大词元：10384"
   ]
  },
  {
   "cell_type": "markdown",
   "id": "f7d87046",
   "metadata": {},
   "source": [
    "训练材料：截至2021年9月"
   ]
  },
  {
   "cell_type": "markdown",
   "id": "4b1348a2",
   "metadata": {},
   "source": [
    "-------------------------------------------------------------------------------------"
   ]
  },
  {
   "cell_type": "markdown",
   "id": "9cb76259",
   "metadata": {},
   "source": [
    "模型名称：gpt-3.5-turbo-0613"
   ]
  },
  {
   "cell_type": "markdown",
   "id": "625f876f",
   "metadata": {},
   "source": [
    "描述：2023年6月13日 gpt-3.5-turbo 的数据功能调用静态版。与 gpt-3.5-turbo 不同，这个模型不会接收更新，并且在新版本发布后的3个月内将被弃用。"
   ]
  },
  {
   "cell_type": "markdown",
   "id": "dbff7a91",
   "metadata": {},
   "source": [
    "最大词元：4096"
   ]
  },
  {
   "cell_type": "markdown",
   "id": "f2176d8d",
   "metadata": {},
   "source": [
    "训练材料：截至2021年9月"
   ]
  },
  {
   "cell_type": "markdown",
   "id": "4b36cb81",
   "metadata": {},
   "source": [
    "-------------------------------------------------------------------------------------"
   ]
  },
  {
   "cell_type": "markdown",
   "id": "02f7fbd9",
   "metadata": {},
   "source": [
    "模型名称：gpt-3.5-turbo-16k-0613"
   ]
  },
  {
   "cell_type": "markdown",
   "id": "abc7043a",
   "metadata": {},
   "source": [
    "描述：2023年6月13日 gpt-3.5-turbo-16k 的数据功能调用静态版。与 gpt-3.5-turbo-16k 不同，这个模型不会接收更新，并且在新版本发布后的3个月内将被弃用。"
   ]
  },
  {
   "cell_type": "markdown",
   "id": "a30d23c2",
   "metadata": {},
   "source": [
    "最大词元：16384"
   ]
  },
  {
   "cell_type": "markdown",
   "id": "ff3116b2",
   "metadata": {},
   "source": [
    "训练材料：截至2021年9月"
   ]
  },
  {
   "cell_type": "markdown",
   "id": "6ffadbff",
   "metadata": {},
   "source": [
    "-------------------------------------------------------------------------------------"
   ]
  },
  {
   "cell_type": "markdown",
   "id": "6ea40f76",
   "metadata": {},
   "source": [
    "模型名称：text-davinci-003 (旧系统的)"
   ]
  },
  {
   "cell_type": "markdown",
   "id": "e28262fd",
   "metadata": {},
   "source": [
    "描述：在相同指令下，相比curie，babbage，或者ada模型，可以用更好的质量，更长的输出做任何语言任务。还支持一些附加特性，比如插入文本。"
   ]
  },
  {
   "cell_type": "markdown",
   "id": "3d76e558",
   "metadata": {},
   "source": [
    "最大词元：4097"
   ]
  },
  {
   "cell_type": "markdown",
   "id": "902ef3dd",
   "metadata": {},
   "source": [
    "训练材料：截至2021年6月"
   ]
  },
  {
   "cell_type": "markdown",
   "id": "a63537c6",
   "metadata": {},
   "source": [
    "-------------------------------------------------------------------------------------"
   ]
  },
  {
   "cell_type": "markdown",
   "id": "47079274",
   "metadata": {},
   "source": [
    "模型名称：text-davinci-002 (旧系统的)"
   ]
  },
  {
   "cell_type": "markdown",
   "id": "54a1d971",
   "metadata": {},
   "source": [
    "描述：与 text-davinci-003类似的能力，但受过监督微调而非强化学习微调的训练"
   ]
  },
  {
   "cell_type": "markdown",
   "id": "6929b230",
   "metadata": {},
   "source": [
    "最大词元：4097"
   ]
  },
  {
   "cell_type": "markdown",
   "id": "1f630040",
   "metadata": {},
   "source": [
    "训练材料：截至2021年6月"
   ]
  },
  {
   "cell_type": "markdown",
   "id": "91dfdd9e",
   "metadata": {},
   "source": [
    "-------------------------------------------------------------------------------------"
   ]
  },
  {
   "cell_type": "markdown",
   "id": "7fe8a2d9",
   "metadata": {},
   "source": [
    "模型名称：code-davinci-002 (旧系统的)"
   ]
  },
  {
   "cell_type": "markdown",
   "id": "2a16b801",
   "metadata": {},
   "source": [
    "描述：为代码完成任务进行了优化"
   ]
  },
  {
   "cell_type": "markdown",
   "id": "b2c99165",
   "metadata": {},
   "source": [
    "最大词元：8001"
   ]
  },
  {
   "cell_type": "markdown",
   "id": "4d5b5ffe",
   "metadata": {},
   "source": [
    "训练材料：截至2021年6月"
   ]
  },
  {
   "cell_type": "markdown",
   "id": "0de2b474",
   "metadata": {},
   "source": [
    "我们推荐使用 GPT-3.5-turbo 而不是其他 GPT-3.5型号，因为它的成本更低，性能更好。"
   ]
  },
  {
   "cell_type": "markdown",
   "id": "d9c40d54",
   "metadata": {},
   "source": [
    "-------------------------------------------------------------------------------------"
   ]
  },
  {
   "cell_type": "markdown",
   "id": "a899ab8b",
   "metadata": {},
   "source": [
    "<strong><font size=\"5\">DALL·E</font></strong>"
   ]
  },
  {
   "cell_type": "markdown",
   "id": "67cf5117",
   "metadata": {},
   "source": [
    "DALL · E 是一个人工智能系统，它可以通过自然语言的描述来创造逼真的图像和艺术。我们目前支持在给定提示的情况下创建具有一定大小的新图像、编辑现有图像或创建用户提供的变量图像的能力。"
   ]
  },
  {
   "cell_type": "markdown",
   "id": "07a4f0a9",
   "metadata": {},
   "source": [
    "通过 API 获得的当前 DALL · E 模型是 DALL · E 的第二次迭代，它具有比原始模型更真实、更精确、分辨率更高4倍的图像。您可以通过我们的实验室接口或通过 API 来试用:https://platform.openai.com/docs/guides/images/introduction"
   ]
  },
  {
   "cell_type": "markdown",
   "id": "39eb672d",
   "metadata": {},
   "source": [
    "-------------------------------------------------------------------------------------"
   ]
  },
  {
   "cell_type": "markdown",
   "id": "80d3c89c",
   "metadata": {},
   "source": [
    "<strong><font size=\"5\">Whisper</font></strong>"
   ]
  },
  {
   "cell_type": "markdown",
   "id": "b8cc9b99",
   "metadata": {},
   "source": [
    "Whisper是一种通用的语音识别模型。该模型是一个多任务模型，可以进行多语种语音识别，也可以进行语音翻译和语言识别。Whisper v2版大型模型目前可以通过我们的具有 Whisper1模型名称的 API 获得。"
   ]
  },
  {
   "cell_type": "markdown",
   "id": "52d5dc05",
   "metadata": {},
   "source": [
    "目前，Whisper 的开源版本和我们的 API 提供的版本之间没有区别。然而，通过我们的 API，我们提供了一个优化的推理过程，使运行Whisper 通过我们的 API 比通过其他方式更快。关于Whisper 的更多技术细节，你可以阅读说明：https://arxiv.org/abs/2212.04356"
   ]
  },
  {
   "cell_type": "markdown",
   "id": "eb567fe5",
   "metadata": {},
   "source": [
    "<strong><font size=\"5\">Embeddings</font></strong>"
   ]
  },
  {
   "cell_type": "markdown",
   "id": "af96fa07",
   "metadata": {},
   "source": [
    "向量化是文本的数字表示，可以用来测量两段文本之间的关系。我们的第二代向量化模型，text-embedding-ada-002是一个设计来节约以前的16个第一代嵌入模型的成本为一小部分。向量化对于搜索、聚类、推荐、异常检测和分类任务都很有用。您可以在公告博客文章中了解更多关于我们最新的向量化模型的信息：https://openai.com/blog/new-and-improved-embedding-model"
   ]
  },
  {
   "cell_type": "markdown",
   "id": "234a8aa6",
   "metadata": {},
   "source": [
    "<strong><font size=\"5\">Moderation</font></strong>"
   ]
  },
  {
   "cell_type": "markdown",
   "id": "c1313e1f",
   "metadata": {},
   "source": [
    "调节模型的设计目的是检查内容是否符合 OpenAI 的使用策略。这些模型提供了分类功能，可以查找以下类别的内容: 仇恨、仇恨/威胁、自我伤害、性、性/未成年人、暴力和暴力/图形。你可以在我们的Moderation指南中找到更多信息:https://platform.openai.com/docs/guides/moderation/overview"
   ]
  },
  {
   "cell_type": "markdown",
   "id": "6d0bdeb6",
   "metadata": {},
   "source": [
    "Moderation模型接受任意大小的输入，该输入会自动分解并修复模型特定的上下文。"
   ]
  },
  {
   "cell_type": "markdown",
   "id": "b89b4086",
   "metadata": {},
   "source": [
    "模型名称：text-moderation-latest"
   ]
  },
  {
   "cell_type": "markdown",
   "id": "fe98e597",
   "metadata": {},
   "source": [
    "描述：最有能力的调节模型。精度将略高于稳定模型。"
   ]
  },
  {
   "cell_type": "markdown",
   "id": "160fba6d",
   "metadata": {},
   "source": [
    "模型名称：text-moderation-stable"
   ]
  },
  {
   "cell_type": "markdown",
   "id": "840afc3e",
   "metadata": {},
   "source": [
    "描述：几乎和最新型号一样强大，只是年代稍长。"
   ]
  },
  {
   "cell_type": "markdown",
   "id": "434b86c5",
   "metadata": {},
   "source": [
    "<strong><font size=\"5\">GPT3</font></strong>"
   ]
  },
  {
   "cell_type": "markdown",
   "id": "5a298ad6",
   "metadata": {},
   "source": [
    "GPT-3模型能够理解和生成自然语言。这些型号被更强大的 GPT-3.5代型号所取代。然而，最初的 GPT-3基本模型(davinci、 curie、 ada 和 babbage)是目前唯一可以进行微调的模型。"
   ]
  },
  {
   "cell_type": "markdown",
   "id": "1995a4ca",
   "metadata": {},
   "source": [
    "模型名称：text-curie-001"
   ]
  },
  {
   "cell_type": "markdown",
   "id": "a7a6b813",
   "metadata": {},
   "source": [
    "描述：非常有能力，比Davinci更快，成本更低。"
   ]
  },
  {
   "cell_type": "markdown",
   "id": "98926f41",
   "metadata": {},
   "source": [
    "最大词元：2049"
   ]
  },
  {
   "cell_type": "markdown",
   "id": "1d3a0353",
   "metadata": {},
   "source": [
    "训练材料：截至2019年10月"
   ]
  },
  {
   "cell_type": "markdown",
   "id": "c419e8a8",
   "metadata": {},
   "source": [
    "-------------------------------------------------------------------------------------"
   ]
  },
  {
   "cell_type": "markdown",
   "id": "18e4e780",
   "metadata": {},
   "source": [
    "模型名称：text-babbage-001"
   ]
  },
  {
   "cell_type": "markdown",
   "id": "22a2a48a",
   "metadata": {},
   "source": [
    "描述：能够完成简单的任务，速度快，成本低。"
   ]
  },
  {
   "cell_type": "markdown",
   "id": "6497f712",
   "metadata": {},
   "source": [
    "最大词元：2049"
   ]
  },
  {
   "cell_type": "markdown",
   "id": "727cce03",
   "metadata": {},
   "source": [
    "训练材料：截至2019年10月"
   ]
  },
  {
   "cell_type": "markdown",
   "id": "804166bf",
   "metadata": {},
   "source": [
    "-------------------------------------------------------------------------------------"
   ]
  },
  {
   "cell_type": "markdown",
   "id": "53d83354",
   "metadata": {},
   "source": [
    "模型名称：text-ada-001"
   ]
  },
  {
   "cell_type": "markdown",
   "id": "406c2298",
   "metadata": {},
   "source": [
    "描述：能够完成非常简单的任务，通常是 GPT-3系列中最快的型号，成本最低。"
   ]
  },
  {
   "cell_type": "markdown",
   "id": "a7a3ad99",
   "metadata": {},
   "source": [
    "最大词元：2049"
   ]
  },
  {
   "cell_type": "markdown",
   "id": "bdf9ecb3",
   "metadata": {},
   "source": [
    "训练材料：截至2019年10月"
   ]
  },
  {
   "cell_type": "markdown",
   "id": "2a4adcd3",
   "metadata": {},
   "source": [
    "-------------------------------------------------------------------------------------"
   ]
  },
  {
   "cell_type": "markdown",
   "id": "15fb80f2",
   "metadata": {},
   "source": [
    "模型名称：davinci"
   ]
  },
  {
   "cell_type": "markdown",
   "id": "6214dd44",
   "metadata": {},
   "source": [
    "描述：最能干的 GPT-3型号。可以做任何其他型号可以做的任务，往往具有更高的质量。"
   ]
  },
  {
   "cell_type": "markdown",
   "id": "721b71c6",
   "metadata": {},
   "source": [
    "最大词元：2049"
   ]
  },
  {
   "cell_type": "markdown",
   "id": "8461ca7d",
   "metadata": {},
   "source": [
    "训练材料：截至2019年10月"
   ]
  },
  {
   "cell_type": "markdown",
   "id": "a5e30d71",
   "metadata": {},
   "source": [
    "-------------------------------------------------------------------------------------"
   ]
  },
  {
   "cell_type": "markdown",
   "id": "9ec3d7d5",
   "metadata": {},
   "source": [
    "模型名称：curie"
   ]
  },
  {
   "cell_type": "markdown",
   "id": "8360d2c9",
   "metadata": {},
   "source": [
    "描述：非常有能力，但比davinci更快，成本更低。"
   ]
  },
  {
   "cell_type": "markdown",
   "id": "fe5732de",
   "metadata": {},
   "source": [
    "最大词元：2049"
   ]
  },
  {
   "cell_type": "markdown",
   "id": "8c93b3ea",
   "metadata": {},
   "source": [
    "训练材料：截至2019年10月"
   ]
  },
  {
   "cell_type": "markdown",
   "id": "4e509286",
   "metadata": {},
   "source": [
    "-------------------------------------------------------------------------------------"
   ]
  },
  {
   "cell_type": "markdown",
   "id": "dd22e7dc",
   "metadata": {},
   "source": [
    "模型名称：babbage"
   ]
  },
  {
   "cell_type": "markdown",
   "id": "4969d0db",
   "metadata": {},
   "source": [
    "描述：能够完成简单的任务，速度快，成本低。"
   ]
  },
  {
   "cell_type": "markdown",
   "id": "0bc2286f",
   "metadata": {},
   "source": [
    "最大词元：2049"
   ]
  },
  {
   "cell_type": "markdown",
   "id": "d557493f",
   "metadata": {},
   "source": [
    "训练材料：截至2019年10月"
   ]
  },
  {
   "cell_type": "markdown",
   "id": "932bf1f9",
   "metadata": {},
   "source": [
    "-------------------------------------------------------------------------------------"
   ]
  },
  {
   "cell_type": "markdown",
   "id": "b7bec689",
   "metadata": {},
   "source": [
    "模型名称：ada"
   ]
  },
  {
   "cell_type": "markdown",
   "id": "8c60841f",
   "metadata": {},
   "source": [
    "描述：能够完成非常简单的任务，通常是 GPT-3系列中最快的型号，成本最低。"
   ]
  },
  {
   "cell_type": "markdown",
   "id": "3df7a77c",
   "metadata": {},
   "source": [
    "最大词元：2049"
   ]
  },
  {
   "cell_type": "markdown",
   "id": "6101a775",
   "metadata": {},
   "source": [
    "训练材料：截至2019年10月"
   ]
  },
  {
   "cell_type": "markdown",
   "id": "5ea3495d",
   "metadata": {},
   "source": [
    "-------------------------------------------------------------------------------------"
   ]
  },
  {
   "cell_type": "markdown",
   "id": "5850b888",
   "metadata": {},
   "source": [
    "<strong><font size=\"1\">刘导出品，必是精品</font></strong>"
   ]
  },
  {
   "cell_type": "markdown",
   "id": "7039bda7",
   "metadata": {},
   "source": [
    "<strong><font size=\"5\">我们如何使用你的数据</font></strong>"
   ]
  },
  {
   "cell_type": "markdown",
   "id": "bf840515",
   "metadata": {},
   "source": [
    "你的数据就是你的数据。"
   ]
  },
  {
   "cell_type": "markdown",
   "id": "34b55dce",
   "metadata": {},
   "source": [
    "自2023年3月1日起，发送到 OpenAI API 的数据将不会用于培训或改进 OpenAI 模型(除非你明确选择加入：https://docs.google.com/forms/d/e/1FAIpQLSevgtKyiSWIOj6CV6XWBHl1daPZSOcIWzcUYUXQ1xttjBgDpA/viewform )。选择加入的一个好处是，随着时间的推移，模型可能会在你的实用中变得更好。"
   ]
  },
  {
   "cell_type": "markdown",
   "id": "1b608832",
   "metadata": {},
   "source": [
    "为了帮助识别滥用，API 数据可以保留长达30天，之后将被删除(除非法律另有规定)。对于具有敏感应用程序的受信任客户，可以使用零数据保留。由于没有数据保留，请求和响应主体不会保存到任何日志记录系统，而只存在于内存中，以便为请求提供服务。"
   ]
  },
  {
   "cell_type": "markdown",
   "id": "ba616e67",
   "metadata": {},
   "source": [
    "请注意，此数据策略不适用于 OpenAI 的非 API 消费者服务，如 ChatGPT 或 DALL · E Labs。"
   ]
  },
  {
   "cell_type": "markdown",
   "id": "56dd0657",
   "metadata": {},
   "source": [
    "<strong><font size=\"5\">端点默认使用条款</font></strong>"
   ]
  },
  {
   "cell_type": "markdown",
   "id": "1282ece4",
   "metadata": {},
   "source": [
    "端点名称：/v1/completions<br>\n",
    "数据用于培训：否<br>\n",
    "默认保留：30天<br>\n",
    "能选择零保留：是<br>"
   ]
  },
  {
   "cell_type": "markdown",
   "id": "0c1076d8",
   "metadata": {},
   "source": [
    "端点名称：/v1/chat/completions<br>\n",
    "数据用于培训：否<br>\n",
    "默认保留：30天<br>\n",
    "能选择零保留：是<br>"
   ]
  },
  {
   "cell_type": "markdown",
   "id": "af465439",
   "metadata": {},
   "source": [
    "端点名称：/v1/edits<br>\n",
    "数据用于培训：否<br>\n",
    "默认保留：30天<br>\n",
    "能选择零保留：是<br>"
   ]
  },
  {
   "cell_type": "markdown",
   "id": "c708a6b9",
   "metadata": {},
   "source": [
    "端点名称：/v1/images/generations<br>\n",
    "数据用于培训：否<br>\n",
    "默认保留：30天<br>\n",
    "能选择零保留：否<br>"
   ]
  },
  {
   "cell_type": "markdown",
   "id": "0b3d5bb6",
   "metadata": {},
   "source": [
    "端点名称：/v1/images/edits<br>\n",
    "数据用于培训：否<br>\n",
    "默认保留：30天<br>\n",
    "能选择零保留：否<br>"
   ]
  },
  {
   "cell_type": "markdown",
   "id": "1dda4075",
   "metadata": {},
   "source": [
    "端点名称：/v1/images/variations<br>\n",
    "数据用于培训：否<br>\n",
    "默认保留：30天<br>\n",
    "能选择零保留：否<br>"
   ]
  },
  {
   "cell_type": "markdown",
   "id": "8313bd70",
   "metadata": {},
   "source": [
    "端点名称：/v1/embeddings<br>\n",
    "数据用于培训：否<br>\n",
    "默认保留：30天<br>\n",
    "能选择零保留：是<br>"
   ]
  },
  {
   "cell_type": "markdown",
   "id": "98dcd7a7",
   "metadata": {},
   "source": [
    "端点名称：/v1/audio/transcriptions<br>\n",
    "数据用于培训：否<br>\n",
    "默认保留：没有数据保留<br>\n",
    "能选择零保留：否<br>"
   ]
  },
  {
   "cell_type": "markdown",
   "id": "4214fa97",
   "metadata": {},
   "source": [
    "端点名称：/v1/audio/transcriptions<br>\n",
    "数据用于培训：否<br>\n",
    "默认保留：没有数据保留<br>\n",
    "能选择零保留：否<br>"
   ]
  },
  {
   "cell_type": "markdown",
   "id": "e67a23fc",
   "metadata": {},
   "source": [
    "端点名称：/v1/audio/translations<br>\n",
    "数据用于培训：否<br>\n",
    "默认保留：没有数据保留<br>\n",
    "能选择零保留：否<br>"
   ]
  },
  {
   "cell_type": "markdown",
   "id": "2cad4bd5",
   "metadata": {},
   "source": [
    "端点名称：/v1/files<br>\n",
    "数据用于培训：否<br>\n",
    "默认保留：直到客户删除<br>\n",
    "能选择零保留：否<br>"
   ]
  },
  {
   "cell_type": "markdown",
   "id": "265e04de",
   "metadata": {},
   "source": [
    "端点名称：/v1/fine-tunes<br>\n",
    "数据用于培训：否<br>\n",
    "默认保留：直到客户删除<br>\n",
    "能选择零保留：否<br>"
   ]
  },
  {
   "cell_type": "markdown",
   "id": "c1974887",
   "metadata": {},
   "source": [
    "端点名称：/v1/moderations<br>\n",
    "数据用于培训：否<br>\n",
    "默认保留：直到客户删除<br>\n",
    "能选择零保留：否<br>"
   ]
  },
  {
   "cell_type": "markdown",
   "id": "417943c3",
   "metadata": {},
   "source": [
    "有关详细信息，请参阅我们的 API 数据使用策略。要了解更多关于零保留的信息，请与我们的销售团队联系。"
   ]
  },
  {
   "cell_type": "markdown",
   "id": "ddb75beb",
   "metadata": {},
   "source": [
    "<strong><font size=\"5\">模型端点兼容性</font></strong>"
   ]
  },
  {
   "cell_type": "markdown",
   "id": "ddfe5fa5",
   "metadata": {},
   "source": [
    "端点名称：/v1/moderations<br>\n",
    "兼容模型名称：gpt-4, gpt-4-0613, gpt-4-32k, gpt-4-32k-0613, gpt-3.5-turbo, gpt-3.5-turbo-0613, gpt-3.5-turbo-16k, gpt-3.5-turbo-16k-0613\n",
    "Gpt-4，gpt-4-0613，gpt-4-32k，gpt-4-32k-0613，gpt-3.5-turbo-0613，gpt-3.5-turbo-16k，gpt-3.5-turbo-16k-0613"
   ]
  },
  {
   "cell_type": "markdown",
   "id": "4c7518df",
   "metadata": {},
   "source": [
    "端点名称：/v1/completions (Legacy)<br>\n",
    "兼容模型名称：ext-davinci-003, text-davinci-002, text-davinci-001, text-curie-001, text-babbage-001, text-ada-001, davinci, curie, babbage, ada"
   ]
  },
  {
   "cell_type": "markdown",
   "id": "fa8f1bb5",
   "metadata": {},
   "source": [
    "端点名称：/v1/audio/transcriptions<br>\n",
    "兼容模型名称：whisper-1"
   ]
  },
  {
   "cell_type": "markdown",
   "id": "a5da3dff",
   "metadata": {},
   "source": [
    "端点名称：/v1/audio/translations<br>\n",
    "兼容模型名称：whisper-1"
   ]
  },
  {
   "cell_type": "markdown",
   "id": "f0d8dac9",
   "metadata": {},
   "source": [
    "端点名称：/v1/embeddings<br>\n",
    "兼容模型名称：text-embedding-ada-002, text-similarity-*-001, text-search-*-*-001, code-search-*-*-001"
   ]
  },
  {
   "cell_type": "markdown",
   "id": "290bb6ad",
   "metadata": {},
   "source": [
    "端点名称：/v1/moderations<br>\n",
    "兼容模型名称：text-moderation-stable, text-moderation-latest"
   ]
  },
  {
   "cell_type": "markdown",
   "id": "b482fa2f",
   "metadata": {},
   "source": [
    "这个列表不包括我们的第一代向量化模型，也不包括我们的DALL·E模型"
   ]
  },
  {
   "cell_type": "markdown",
   "id": "0f4ed817",
   "metadata": {},
   "source": [
    "<strong><font size=\"1\">刘导出品，必是精品</font></strong>"
   ]
  },
  {
   "cell_type": "markdown",
   "id": "79b628bf",
   "metadata": {},
   "source": [
    "<strong><font size=\"6\">弃用</font></strong>"
   ]
  },
  {
   "cell_type": "markdown",
   "id": "f8b60b95",
   "metadata": {},
   "source": [
    "<strong><font size=\"5\">概述</font></strong>"
   ]
  },
  {
   "cell_type": "markdown",
   "id": "d6c86f80",
   "metadata": {},
   "source": [
    "随着我们推出更安全、性能更强的模型，我们会定期淘汰老版模型。依赖OpenAI模型的软件可能需要偶尔更新才能继续工作。总是受影响的客户，我们将会通过电子邮件，文档和较大变化的博客文章通知。"
   ]
  },
  {
   "cell_type": "markdown",
   "id": "84ca4104",
   "metadata": {},
   "source": [
    "此页面列出了所有不推荐的 API，以及推荐的替代品。"
   ]
  },
  {
   "cell_type": "markdown",
   "id": "d534fe4b",
   "metadata": {},
   "source": [
    "<strong><font size=\"5\">新增模型到更新</font></strong>"
   ]
  },
  {
   "cell_type": "markdown",
   "id": "8faef03c",
   "metadata": {},
   "source": [
    "正如2023年3月宣布的那样，我们定期发布 gpt-4和 gpt-3.5-turbo 的新版本。"
   ]
  },
  {
   "cell_type": "markdown",
   "id": "a28d6d49",
   "metadata": {},
   "source": [
    "每个模型版本都使用 -MMDD 后缀; 例如，gpt-4-0613。未注明日期的模型名称，例如 gpt-4，通常指最新版本(例如 gpt-4点到 gpt-4-0613)。通常在发生任何更改前2周，未注明日期的模型用户将收到电子邮件通知。"
   ]
  },
  {
   "cell_type": "markdown",
   "id": "962f5aad",
   "metadata": {},
   "source": [
    "新版本发布后，旧版本通常会在3个月后被弃用。"
   ]
  },
  {
   "cell_type": "markdown",
   "id": "d3321948",
   "metadata": {},
   "source": [
    "<strong><font size=\"5\">转移替代</font></strong>"
   ]
  },
  {
   "cell_type": "markdown",
   "id": "11a4e064",
   "metadata": {},
   "source": [
    "一旦一个模型被废弃，请确保在关闭日期之前将所有应用迁移到合适的替代模型。对超过关闭日期的型号的请求将失败。"
   ]
  },
  {
   "cell_type": "markdown",
   "id": "226583f7",
   "metadata": {},
   "source": [
    "为了帮助测量替换模型后的性能，我们提供了开源的 Evals，这是一个用于评估语言模型的 Python 框架。"
   ]
  },
  {
   "cell_type": "markdown",
   "id": "a44f854b",
   "metadata": {},
   "source": [
    "如果新的模型在您的任务中表现更差，请通过向我们的 Evals 提交请求(https://github.com/openai/evals/pulls )并附上任务案例来告诉我们。"
   ]
  },
  {
   "cell_type": "markdown",
   "id": "c16c669b",
   "metadata": {},
   "source": [
    "<strong><font size=\"5\">废弃历史</font></strong>"
   ]
  },
  {
   "cell_type": "markdown",
   "id": "ee303498",
   "metadata": {},
   "source": [
    "下面列出了所有的废弃历史，最近的公告在最上面。"
   ]
  },
  {
   "cell_type": "markdown",
   "id": "ad09c4d8",
   "metadata": {},
   "source": [
    "<strong><font size=\"3\">2023-07-06: GPT and embeddings</font></strong>"
   ]
  },
  {
   "cell_type": "markdown",
   "id": "7aa37764",
   "metadata": {},
   "source": [
    "在2023年7月6日，我们宣布通过完成端点服务的较老的 GPT-3和 GPT-3.5型号即将退役。我们还宣布即将退出我们的第一代文本嵌入模型。他们将于2024年1月4日关闭。"
   ]
  },
  {
   "cell_type": "markdown",
   "id": "2e873b80",
   "metadata": {},
   "source": [
    "<strong><font size=\"3\">GPT指令模型</font></strong>"
   ]
  },
  {
   "attachments": {
    "%E5%BE%AE%E4%BF%A1%E5%9B%BE%E7%89%87_20230713055938.png": {
     "image/png": "[encoded data removed]"
    }
   },
   "cell_type": "markdown",
   "id": "c7f0dfc7",
   "metadata": {},
   "source": [
    "![%E5%BE%AE%E4%BF%A1%E5%9B%BE%E7%89%87_20230713055938.png](attachment:%E5%BE%AE%E4%BF%A1%E5%9B%BE%E7%89%87_20230713055938.png)"
   ]
  },
  {
   "cell_type": "markdown",
   "id": "cbf79830",
   "metadata": {},
   "source": [
    "注意: 推荐的替代品 gpt-3.5-turbo-instruct 尚未推出。当它可用时，受影响的客户将通过电子邮件得到通知。"
   ]
  },
  {
   "cell_type": "markdown",
   "id": "550f0fa2",
   "metadata": {},
   "source": [
    "<strong><font size=\"3\">GPT基础模型</font></strong>"
   ]
  },
  {
   "attachments": {
    "a5ac2a338559fd7d4666347b3c4455d.png": {
     "image/png": "[encoded data removed]"
    }
   },
   "cell_type": "markdown",
   "id": "3b2869de",
   "metadata": {},
   "source": [
    "![a5ac2a338559fd7d4666347b3c4455d.png](attachment:a5ac2a338559fd7d4666347b3c4455d.png)"
   ]
  },
  {
   "cell_type": "markdown",
   "id": "59cc9e1d",
   "metadata": {},
   "source": [
    "注意: 推荐的替代品尚未推出。当它可用时，受影响的客户将通过电子邮件得到通知。"
   ]
  },
  {
   "cell_type": "markdown",
   "id": "266159bc",
   "metadata": {},
   "source": [
    "<strong><font size=\"3\">可编辑模型&端点</font></strong>"
   ]
  },
  {
   "attachments": {
    "969438e7a84041635175065235dac11.png": {
     "image/png": "[encoded data removed]"
    }
   },
   "cell_type": "markdown",
   "id": "ade37f66",
   "metadata": {},
   "source": [
    "![969438e7a84041635175065235dac11.png](attachment:969438e7a84041635175065235dac11.png)"
   ]
  },
  {
   "cell_type": "markdown",
   "id": "b30fe2ab",
   "metadata": {},
   "source": [
    "<strong><font size=\"3\">微调GPT模型</font></strong>"
   ]
  },
  {
   "attachments": {
    "e6ab22d7f5b3ed52428b010678fa546.png": {
     "image/png": "[encoded data removed]"
    }
   },
   "cell_type": "markdown",
   "id": "5bec2dd1",
   "metadata": {},
   "source": [
    "![e6ab22d7f5b3ed52428b010678fa546.png](attachment:e6ab22d7f5b3ed52428b010678fa546.png)"
   ]
  },
  {
   "cell_type": "markdown",
   "id": "bed5898b",
   "metadata": {},
   "source": [
    "注意: 推荐的替代品尚未推出。当它可用时，受影响的客户将通过电子邮件得到通知。"
   ]
  },
  {
   "cell_type": "markdown",
   "id": "d4b933cb",
   "metadata": {},
   "source": [
    "<strong><font size=\"3\">第一代文本向量模型</font></strong>"
   ]
  },
  {
   "attachments": {
    "41239a1fa44508723c02402833ab4c4.png": {
     "image/png": "[encoded data removed]"
    }
   },
   "cell_type": "markdown",
   "id": "b8fdf5a5",
   "metadata": {},
   "source": [
    "![41239a1fa44508723c02402833ab4c4.png](attachment:41239a1fa44508723c02402833ab4c4.png)"
   ]
  },
  {
   "cell_type": "markdown",
   "id": "60e7dc5c",
   "metadata": {},
   "source": [
    "<strong><font size=\"3\">2023-06-13: 更新聊天模型</font></strong>"
   ]
  },
  {
   "cell_type": "markdown",
   "id": "3136796d",
   "metadata": {},
   "source": [
    "在2023年6月13日，我们在  Function calling and other API updates 更新博客文章中发布了新的聊天模型版本。三个原始版本将于2023年9月退役。"
   ]
  },
  {
   "attachments": {
    "98ec2f408585f44642fd40a9eb6897e.png": {
     "image/png": "[encoded data removed]"
    }
   },
   "cell_type": "markdown",
   "id": "02f914ac",
   "metadata": {},
   "source": [
    "![98ec2f408585f44642fd40a9eb6897e.png](attachment:98ec2f408585f44642fd40a9eb6897e.png)"
   ]
  },
  {
   "cell_type": "markdown",
   "id": "3c5f44da",
   "metadata": {},
   "source": [
    "<strong><font size=\"3\">2023-03-20: 代码模型</font></strong>"
   ]
  },
  {
   "attachments": {
    "415a671bbe75ec99d9cdb58b868cdad.png": {
     "image/png": "[encoded data removed]"
    }
   },
   "cell_type": "markdown",
   "id": "c7b012d2",
   "metadata": {},
   "source": [
    "![415a671bbe75ec99d9cdb58b868cdad.png](attachment:415a671bbe75ec99d9cdb58b868cdad.png)"
   ]
  },
  {
   "cell_type": "markdown",
   "id": "8ed5aee1",
   "metadata": {},
   "source": [
    "<strong><font size=\"3\">2022-06-03: 旧端点</font></strong>"
   ]
  },
  {
   "attachments": {
    "69fbf5913cdc370e2606c643b6813d1.png": {
     "image/png": "[encoded data removed]"
    }
   },
   "cell_type": "markdown",
   "id": "f132df61",
   "metadata": {},
   "source": [
    "![69fbf5913cdc370e2606c643b6813d1.png](attachment:69fbf5913cdc370e2606c643b6813d1.png)"
   ]
  },
  {
   "cell_type": "markdown",
   "id": "93298f3e",
   "metadata": {},
   "source": [
    "<strong><font size=\"1\">刘导出品，必是精品</font></strong>"
   ]
  },
  {
   "cell_type": "markdown",
   "id": "7990128b",
   "metadata": {},
   "source": [
    "<strong><font size=\"6\">教程</font></strong>"
   ]
  },
  {
   "cell_type": "markdown",
   "id": "3a1cc5e0",
   "metadata": {},
   "source": [
    "<strong><font size=\"5\">怎样建立一个你自己的AI问答网站</font></strong>"
   ]
  },
  {
   "cell_type": "markdown",
   "id": "f21d400d",
   "metadata": {},
   "source": [
    "本教程通过一个简单的例子，抓取一个网站(在这个例子中，OpenAI 网站) ，用向量接口把抓取到的网页向量化，然后创建一个基本的搜索功能，允许用户询问有关向量化信息的问题。这将成为更复杂的自定义知识库的起点。"
   ]
  },
  {
   "cell_type": "markdown",
   "id": "3743b048",
   "metadata": {},
   "source": [
    "<strong><font size=\"5\">开始</font></strong>"
   ]
  },
  {
   "cell_type": "markdown",
   "id": "c5709f0c",
   "metadata": {},
   "source": [
    "一些有关 Python 和 GitHub 的基本知识对本教程很有帮助。在开始之前，请确保设置一个 OpenAI API 密钥并浏览快速启动教程。这将为如何充分发挥 API 的潜力提供很好的前提。"
   ]
  },
  {
   "cell_type": "markdown",
   "id": "1c82d5e6",
   "metadata": {},
   "source": [
    "Python是一种主流编程语言，同时拥有OpenAI、Pandas、Transformer、NumPy 和其他流行的软件包。如果您在本教程中遇到任何问题，请在 OpenAI 社区论坛上提出问题。"
   ]
  },
  {
   "cell_type": "markdown",
   "id": "45c7e065",
   "metadata": {},
   "source": [
    "首先，在 GitHub 上克隆本教程的完整代码。或者，跟随并复制每个部分到jupyter笔记本，一步一步运行代码，或只是阅读。避免任何问题的一个好方法是设置一个新的虚拟环境，并通过运行以下命令安装所需的包:"
   ]
  },
  {
   "cell_type": "markdown",
   "id": "6e7434f9",
   "metadata": {},
   "source": [
    "python -m venv env<br>\n",
    "\n",
    "source env/bin/activate<br>\n",
    "\n",
    "pip install -r requirements.txt<br>"
   ]
  },
  {
   "cell_type": "markdown",
   "id": "7a1188c2",
   "metadata": {},
   "source": [
    "<strong><font size=\"5\">设置一个网络爬虫</font></strong>"
   ]
  },
  {
   "cell_type": "markdown",
   "id": "6b5b209a",
   "metadata": {},
   "source": [
    "本教程的主要重点是 OpenAI API，所以如果你愿意，你可以跳过如何创建一个网络爬虫的上下文，直接下载源代码。否则将继续下面的部分，以实现返回词的抓取机制。"
   ]
  },
  {
   "cell_type": "markdown",
   "id": "a9bc861b",
   "metadata": {},
   "source": [
    "学习如何建立一个网络爬虫"
   ]
  },
  {
   "cell_type": "markdown",
   "id": "194db17c",
   "metadata": {},
   "source": [
    "以文本形式获取数据是向量化的第一步。本教程通过抓取 OpenAI 网站创建一组新的数据，这种技术也可以用于您自己的公司或个人网站。"
   ]
  },
  {
   "cell_type": "markdown",
   "id": "5f2c264d",
   "metadata": {},
   "source": [
    "查看源代码：https://github.com/openai/openai-cookbook/tree/main/apps/web-crawl-q-and-a"
   ]
  },
  {
   "cell_type": "markdown",
   "id": "fad2fd2e",
   "metadata": {},
   "source": [
    "虽然这个爬虫程序是从头开始编写的，但是 Scrapy 这样的开源软件包也可以帮助完成这些操作。"
   ]
  },
  {
   "cell_type": "markdown",
   "id": "40568b10",
   "metadata": {},
   "source": [
    "这个爬虫将从下面代码底部传入的根 URL 开始，访问每个页面，找到其他链接，并访问这些页面(只要它们具有相同的根域)。首先，导入所需的包，设置基本 URL，并定义一个 HTMLParser 类。"
   ]
  },
  {
   "cell_type": "code",
   "execution_count": 7,
   "id": "45d26f36",
   "metadata": {},
   "outputs": [],
   "source": [
    "import requests\n",
    "import re\n",
    "import urllib.request\n",
    "from bs4 import BeautifulSoup\n",
    "from collections import deque\n",
    "from html.parser import HTMLParser\n",
    "from urllib.parse import urlparse\n",
    "import os\n",
    "\n",
    "# 正则模式匹配URL\n",
    "HTTP_URL_PATTERN = r'^http[s]*://.+'\n",
    "\n",
    "domain = \"openai.com\" # <- 抓取你的主页\n",
    "full_url = \"https://openai.com/\" # <- 抓取你主页里面的https或者http\n",
    "\n",
    "# 创建一个类来解析 HTML 并获得超链接\n",
    "class HyperlinkParser(HTMLParser):\n",
    "    def __init__(self):\n",
    "        super().__init__()\n",
    "        # 创建一个列表存储超链接\n",
    "        self.hyperlinks = []\n",
    "\n",
    "    # 重写 HTMLParser 的 handle _ starttag 方法以获取超链接\n",
    "    def handle_starttag(self, tag, attrs):\n",
    "        attrs = dict(attrs)\n",
    "\n",
    "        # 如果标记是一个锚标记，并且它有一个 href 属性，那么将 href 属性添加到超链接列表中\n",
    "        if tag == \"a\" and \"href\" in attrs:\n",
    "            self.hyperlinks.append(attrs[\"href\"])"
   ]
  },
  {
   "cell_type": "markdown",
   "id": "07149395",
   "metadata": {},
   "source": [
    "下一个函数接受 URL 作为参数，打开 URL 并读取 HTML 内容。然后，它返回在该页面上找到的所有超链接。"
   ]
  },
  {
   "cell_type": "code",
   "execution_count": 8,
   "id": "4ecc4d46",
   "metadata": {},
   "outputs": [],
   "source": [
    "# 该函数用来从url里面得到超链接\n",
    "def get_hyperlinks(url):\n",
    "\n",
    "    # 尝试打开url并读取html\n",
    "    try:\n",
    "        # 打开url并读取html\n",
    "        with urllib.request.urlopen(url) as response:\n",
    "\n",
    "            # 如果相应不是html，则返回空列表\n",
    "            if not response.info().get('Content-Type').startswith(\"text/html\"):\n",
    "                return []\n",
    "\n",
    "            # 解码html\n",
    "            html = response.read().decode('utf-8')\n",
    "    except Exception as e:\n",
    "        print(e)\n",
    "        return []\n",
    "\n",
    "    # 创建一个HTML解析器并解析超链接中的html\n",
    "    parser = HyperlinkParser()\n",
    "    parser.feed(html)\n",
    "\n",
    "    return parser.hyperlinks"
   ]
  },
  {
   "cell_type": "markdown",
   "id": "733896f8",
   "metadata": {},
   "source": [
    "我们的目标是爬行和索引在 OpenAI 域下活动的内容。为此，需要一个函数来调用 get_hyperlinks 函数，过滤掉不属于指定域的任何 URL。"
   ]
  },
  {
   "cell_type": "code",
   "execution_count": null,
   "id": "0b769b5c",
   "metadata": {},
   "outputs": [],
   "source": [
    "# 该函数用来从同样主域的url里面获取超链接\n",
    "def get_domain_hyperlinks(local_domain, url):\n",
    "    clean_links = []\n",
    "    for link in set(get_hyperlinks(url)):\n",
    "        clean_link = None\n",
    "\n",
    "        # 如果链接是url，检查它是否含有同样的域名\n",
    "        if re.search(HTTP_URL_PATTERN, link):\n",
    "            # 如果含有同样的域名则解析\n",
    "            url_obj = urlparse(link)\n",
    "            if url_obj.netloc == local_domain:\n",
    "                clean_link = link\n",
    "\n",
    "        # 如果不含有域名，则检查是否是相关链接\n",
    "        else:\n",
    "            if link.startswith(\"/\"):\n",
    "                link = link[1:]\n",
    "            elif link.startswith(\"#\") or link.startswith(\"mailto:\"):\n",
    "                continue\n",
    "            clean_link = \"https://\" + local_domain + \"/\" + link\n",
    "\n",
    "        if clean_link is not None:\n",
    "            if clean_link.endswith(\"/\"):\n",
    "                clean_link = clean_link[:-1]\n",
    "            clean_links.append(clean_link)\n",
    "\n",
    "    # 同样的域名返回超链接列表\n",
    "    return list(set(clean_links))"
   ]
  },
  {
   "cell_type": "markdown",
   "id": "df42423a",
   "metadata": {},
   "source": [
    "抓取函数是网页抓取任务设置的最后一步。它跟踪访问的 URL，以避免重复相同的页面，这些页面可能在一个站点的多个页面之间链接。它还从不带 HTML 标记的页面中提取原始文本，并将文本内容写入本地。特定于页面的 txt 文件。"
   ]
  },
  {
   "cell_type": "code",
   "execution_count": null,
   "id": "a5b8ebb3",
   "metadata": {},
   "outputs": [],
   "source": [
    "def crawl(url):\n",
    "    # 解析url和得到域名\n",
    "    local_domain = urlparse(url).netloc\n",
    "\n",
    "    # 创建一个元组用于存储爬取下来的urls\n",
    "    queue = deque([url])\n",
    "\n",
    "    # 创建一个元祖存储已经查到的链接（去重）  \n",
    "    seen = set([url])\n",
    "\n",
    "    # 创建一个字典去存文本文件\n",
    "    if not os.path.exists(\"text/\"):\n",
    "            os.mkdir(\"text/\")\n",
    "\n",
    "    if not os.path.exists(\"text/\"+local_domain+\"/\"):\n",
    "            os.mkdir(\"text/\" + local_domain + \"/\")\n",
    "\n",
    "    # 创建一个字典去存csv文件\n",
    "    if not os.path.exists(\"processed\"):\n",
    "            os.mkdir(\"processed\")\n",
    "\n",
    "    # 当查询为空仍持续爬取\n",
    "    while queue:\n",
    "\n",
    "        # 得到查询的链接地址\n",
    "        url = queue.pop()\n",
    "        print(url) # 用于调试进程\n",
    "\n",
    "        # 从 <url>.文本文件中存储文本\n",
    "        with open('text/'+local_domain+'/'+url[8:].replace(\"/\", \"_\") + \".txt\", \"w\", encoding=\"UTF-8\") as f:\n",
    "\n",
    "            # 用BeautifulSoup获取下一个url链接\n",
    "            soup = BeautifulSoup(requests.get(url).text, \"html.parser\")\n",
    "\n",
    "            # 得到去除标签的文本\n",
    "            text = soup.get_text()\n",
    "\n",
    "            # 一个爬虫如果爬到需要用Javascript的地方，则会停止爬取。\n",
    "            if (\"You need to enable JavaScript to run this app.\" in text):\n",
    "                print(\"Unable to parse page \" + url + \" due to JavaScript being required\")\n",
    "\n",
    "            # 然后把文本写进文本字典\n",
    "            f.write(text)\n",
    "\n",
    "        # 得到url的超链接和序列\n",
    "        for link in get_domain_hyperlinks(local_domain, url):\n",
    "            if link not in seen:\n",
    "                queue.append(link)\n",
    "                seen.add(link)\n",
    "\n",
    "crawl(full_url)"
   ]
  },
  {
   "cell_type": "markdown",
   "id": "ad2889d0",
   "metadata": {},
   "source": [
    "上面示例的最后一段运行爬虫程序，爬虫程序遍历所有可访问的链接，并将这些页面转换为文本文件。根据站点的大小和复杂程度，这将花费几分钟的时间来运行。"
   ]
  },
  {
   "cell_type": "markdown",
   "id": "47a1afa3",
   "metadata": {},
   "source": [
    "<strong><font size=\"5\">构建一个向量索引</font></strong>"
   ]
  },
  {
   "cell_type": "markdown",
   "id": "9897b6a9",
   "metadata": {},
   "source": [
    "CSV 是存储向量的常用格式。通过将原始文本文件(位于文本目录中)转换为 Pandas的DataFrame，可以在 Python 中使用这种格式。Panda 是一个流行的开源库，可以帮助您处理表格数据(存储在行和列中的数据)。空白的行可能会使文本文件杂乱无章，使它们更难处理。一个简单的函数可以删除这些行并整理文件。"
   ]
  },
  {
   "cell_type": "code",
   "execution_count": null,
   "id": "305e14a8",
   "metadata": {},
   "outputs": [],
   "source": [
    "def remove_newlines(serie):\n",
    "    serie = serie.str.replace('\\n', ' ')\n",
    "    serie = serie.str.replace('\\\\n', ' ')\n",
    "    serie = serie.str.replace('  ', ' ')\n",
    "    serie = serie.str.replace('  ', ' ')\n",
    "    return serie"
   ]
  },
  {
   "cell_type": "markdown",
   "id": "05f6fa58",
   "metadata": {},
   "source": [
    "将文本转换为 CSV 需要遍历前面创建的文本目录中的文本文件。打开每个文件后，删除额外的空格并将修改后的文本附加到列表中。然后，添加文本与新的行删除到一个空的pandas的DataFrame中，并写入DataFrame到 CSV 文件。"
   ]
  },
  {
   "cell_type": "markdown",
   "id": "250ff370",
   "metadata": {},
   "source": [
    "额外的间距和新的行会使文本杂乱无章，并使向量化过程复杂化。这里使用的代码有助于删除其中的一些字符，你可能会发现第三方库或其他方法对于删除更多不必要的字符很有用。"
   ]
  },
  {
   "cell_type": "code",
   "execution_count": null,
   "id": "a41bde1e",
   "metadata": {},
   "outputs": [],
   "source": [
    "import pandas as pd\n",
    "\n",
    "# 创建一个列表去存文本文件\n",
    "texts=[]\n",
    "\n",
    "# 获取所有文本文件的文本路径\n",
    "for file in os.listdir(\"text/\" + domain + \"/\"):\n",
    "\n",
    "    # 打开文件并读取文本\n",
    "    with open(\"text/\" + domain + \"/\" + file, \"r\", encoding=\"UTF-8\") as f:\n",
    "        text = f.read()\n",
    "\n",
    "        # 解释前11行和后4行, 然后替换-, _, 和 #update 替换为空.\n",
    "        texts.append((file[11:-4].replace('-',' ').replace('_', ' ').replace('#update',''), text))\n",
    "\n",
    "# 从文本列表里面创建一个数据框\n",
    "df = pd.DataFrame(texts, columns = ['fname', 'text'])\n",
    "\n",
    "# 将文本列设置为删除换行的原始文本\n",
    "df['text'] = df.fname + \". \" + remove_newlines(df.text)\n",
    "df.to_csv('processed/scraped.csv')\n",
    "df.head()"
   ]
  },
  {
   "cell_type": "markdown",
   "id": "b181e29a",
   "metadata": {},
   "source": [
    "词元化是将原始文本保存到 CSV 文件之后的下一步。这个过程通过分解句子和单词将输入的文本分成词元。在文档中查看我们的 Tokenizer 就可以看到这种情况的可视化演示：https://platform.openai.com/tokenizer"
   ]
  },
  {
   "cell_type": "markdown",
   "id": "9d9f0865",
   "metadata": {},
   "source": [
    "一个有用的经验法则是，一个词元通常对应于普通英语文本的约4个字符，大约3/4个单词(100个词元约等于75个单词)。"
   ]
  },
  {
   "cell_type": "markdown",
   "id": "d17794e7",
   "metadata": {},
   "source": [
    "API 对用于向量化的输入词元的最大数量有限制，为了在限制下使用，需要将 CSV 文件中的文本分解为多行，需要拆解记录的每一行。"
   ]
  },
  {
   "cell_type": "code",
   "execution_count": null,
   "id": "4a4c07f0",
   "metadata": {},
   "outputs": [],
   "source": [
    "import tiktoken\n",
    "\n",
    "# 加载用于ada-002模型的cl100k_base词元分解器\n",
    "tokenizer = tiktoken.get_encoding(\"cl100k_base\")\n",
    "\n",
    "df = pd.read_csv('processed/scraped.csv', index_col=0)\n",
    "df.columns = ['title', 'text']\n",
    "\n",
    "# 分解文本并存储词元到一个新列\n",
    "df['n_tokens'] = df.text.apply(lambda x: len(tokenizer.encode(x)))\n",
    "\n",
    "# 使用直方图可视化每行标记数的分布\n",
    "df.n_tokens.hist()"
   ]
  },
  {
   "attachments": {
    "image.png": {
     "image/png": "[encoded data removed]"
    }
   },
   "cell_type": "markdown",
   "id": "6d425865",
   "metadata": {},
   "source": [
    "![image.png](attachment:image.png)"
   ]
  },
  {
   "cell_type": "markdown",
   "id": "dc3b4ee4",
   "metadata": {},
   "source": [
    "最新的向量化模型可以处理多达8191个次元的输入，因此大多数行不需要任何分块，但是这可能不适用于每一个被消除的子模块，因此下面代码块将把较长的行分割成较小的块。"
   ]
  },
  {
   "cell_type": "code",
   "execution_count": null,
   "id": "1c666fe1",
   "metadata": {},
   "outputs": [],
   "source": [
    "max_tokens = 500\n",
    "\n",
    "# 用于将文本拆分为最大次元的模块\n",
    "def split_into_many(text, max_tokens = max_tokens):\n",
    "\n",
    "    # 分裂句子\n",
    "    sentences = text.split('. ')\n",
    "\n",
    "    # 得到每个句子的词元数\n",
    "    n_tokens = [len(tokenizer.encode(\" \" + sentence)) for sentence in sentences]\n",
    "\n",
    "    chunks = []\n",
    "    tokens_so_far = 0\n",
    "    chunk = []\n",
    "\n",
    "    # 在元祖内循环遍历拼在一起的句子和词元数\n",
    "    for sentence, token in zip(sentences, n_tokens):\n",
    "\n",
    "        # 如果目前为止的词元数加上当前句子中的词元数比当前最大词元限制要大，\n",
    "        # 则添加分块并重置到目前为止模块和词元\n",
    "        if tokens_so_far + token > max_tokens:\n",
    "            chunks.append(\". \".join(chunk) + \".\")\n",
    "            chunk = []\n",
    "            tokens_so_far = 0\n",
    "\n",
    "        # 如果现在句子的词元数比最大词元数还大，则调到下一句话\n",
    "        if token > max_tokens:\n",
    "            continue\n",
    "\n",
    "        # 否则，添加句子到模块，添加词元数到总计\n",
    "        chunk.append(sentence)\n",
    "        tokens_so_far += token + 1\n",
    "\n",
    "    return chunks\n",
    "\n",
    "\n",
    "shortened = []\n",
    "\n",
    "# 循环遍历数据框\n",
    "for row in df.iterrows():\n",
    "\n",
    "    # 如果next为空，则跳到下一行\n",
    "    if row[1]['text'] is None:\n",
    "        continue\n",
    "\n",
    "    # 如果词元数大于最大词元限制，则分裂进模块\n",
    "    if row[1]['n_tokens'] > max_tokens:\n",
    "        shortened += split_into_many(row[1]['text'])\n",
    "\n",
    "    # 否则，将该文本添加到缩写文本列表中\n",
    "    else:\n",
    "        shortened.append( row[1]['text'] )"
   ]
  },
  {
   "cell_type": "markdown",
   "id": "fdd88f21",
   "metadata": {},
   "source": [
    "再次可视化更新的直方图可以帮助确认行是否成功地分割成缩短的部分。"
   ]
  },
  {
   "cell_type": "code",
   "execution_count": null,
   "id": "354ab237",
   "metadata": {},
   "outputs": [],
   "source": [
    "df = pd.DataFrame(shortened, columns = ['text'])\n",
    "df['n_tokens'] = df.text.apply(lambda x: len(tokenizer.encode(x)))\n",
    "df.n_tokens.hist()"
   ]
  },
  {
   "attachments": {
    "image.png": {
     "image/png": "[encoded data removed]"
    }
   },
   "cell_type": "markdown",
   "id": "08e2f2af",
   "metadata": {},
   "source": [
    "![image.png](attachment:image.png)"
   ]
  },
  {
   "cell_type": "markdown",
   "id": "2e8d59bf",
   "metadata": {},
   "source": [
    "内容现在被分解成更小的块，一个简单的请求可以被发送到 OpenAI API，指定使用新的text-embedding-ada-002模型来创建向量:"
   ]
  },
  {
   "cell_type": "code",
   "execution_count": null,
   "id": "a70f6e5b",
   "metadata": {},
   "outputs": [],
   "source": [
    "import openai\n",
    "\n",
    "df['embeddings'] = df.text.apply(lambda x: openai.Embedding.create(input=x, engine='text-embedding-ada-002')['data'][0]['embedding'])\n",
    "\n",
    "df.to_csv('processed/embeddings.csv')\n",
    "df.head()"
   ]
  },
  {
   "cell_type": "markdown",
   "id": "b42d2d51",
   "metadata": {},
   "source": [
    "这应该需要大约3-5分钟，但之后，您将有您的向量准备使用！"
   ]
  },
  {
   "cell_type": "markdown",
   "id": "9a417f2b",
   "metadata": {},
   "source": [
    "<strong><font size=\"5\">构建一个向量问答系统</font></strong>"
   ]
  },
  {
   "cell_type": "markdown",
   "id": "9365bdbf",
   "metadata": {},
   "source": [
    "向量已经准备好了，这个过程的最后一步是创建一个简单的问答系统。这将采取一个用户的问题，创建它的向量，并比较它与现有的向量检索最相关的文本从网站。然后，text-davinci-003模型将根据检索到的文本生成一个听起来自然的答案。"
   ]
  },
  {
   "cell_type": "markdown",
   "id": "83bd5c37",
   "metadata": {},
   "source": [
    "将向量转换为 NumPy 数组是第一步，考虑到操作 NumPy 数组的许多函数，这将为如何使用它提供更大的灵活性。它还将把维度平面化为1-D，这是许多后续操作所需的格式。"
   ]
  },
  {
   "cell_type": "code",
   "execution_count": null,
   "id": "27eb3b3f",
   "metadata": {
    "scrolled": false
   },
   "outputs": [],
   "source": [
    "import numpy as np\n",
    "from openai.embeddings_utils import distances_from_embeddings\n",
    "\n",
    "df=pd.read_csv('processed/embeddings.csv', index_col=0)\n",
    "df['embeddings'] = df['embeddings'].apply(eval).apply(np.array)\n",
    "\n",
    "df.head()"
   ]
  },
  {
   "cell_type": "markdown",
   "id": "b9c45b2a",
   "metadata": {},
   "source": [
    "既然数据已经准备好了，就需要将问题转换为带有简单函数的向量。这一点很重要，因为向量式搜索使用余弦距离比较数字向量(即原始文本的转换)。这些向量可能是相关的，如果它们在余弦距离上很接近，它们可能就是问题的答案。OpenAI python 包具有一个内置的distances_from_embeddings函数，在这里非常有用。"
   ]
  },
  {
   "cell_type": "code",
   "execution_count": null,
   "id": "2fcc6752",
   "metadata": {},
   "outputs": [],
   "source": [
    "def create_context(\n",
    "    question, df, max_len=1800, size=\"ada\"\n",
    "):\n",
    "    \"\"\"\n",
    "    通过从数据框架中找到最相似的上下文来为问题创建上下文\n",
    "    \"\"\"\n",
    "\n",
    "    # 得到问题的向量\n",
    "    q_embeddings = openai.Embedding.create(input=question, engine='text-embedding-ada-002')['data'][0]['embedding']\n",
    "\n",
    "    # 得到向量的长度\n",
    "    df['distances'] = distances_from_embeddings(q_embeddings, df['embeddings'].values, distance_metric='cosine')\n",
    "\n",
    "\n",
    "    returns = []\n",
    "    cur_len = 0\n",
    "\n",
    "    # 按距离排序，并将文本添加到上下文中，直到上下文太长\n",
    "    for i, row in df.sort_values('distances', ascending=True).iterrows():\n",
    "\n",
    "        # 将文本的长度添加到当前长度\n",
    "        cur_len += row['n_tokens'] + 4\n",
    "\n",
    "        # 如果上下文太长，就打断\n",
    "        if cur_len > max_len:\n",
    "            break\n",
    "\n",
    "        # 否则将其添加到要返回的文本中\n",
    "        returns.append(row[\"text\"])\n",
    "\n",
    "    # 返回内容\n",
    "    return \"\\n\\n###\\n\\n\".join(returns)"
   ]
  },
  {
   "cell_type": "markdown",
   "id": "68481484",
   "metadata": {},
   "source": [
    "文本被分解成更小的词元，因此按升序循环并继续添加文本是确保完整答案的关键步骤。如果返回的内容比需要的更多，最大长度也可以修改为更小的内容。"
   ]
  },
  {
   "cell_type": "markdown",
   "id": "2275dc76",
   "metadata": {},
   "source": [
    "前一步只检索与问题语义相关的文本块，因此它们可能包含答案，但也无法保证。通过返回前5个最有可能的结果，可以进一步增加找到答案的机会。"
   ]
  },
  {
   "cell_type": "markdown",
   "id": "747257f4",
   "metadata": {},
   "source": [
    "然后，回答提示将尝试从检索到的上下文中提取相关事实，以便形成一个连贯的答案。如果没有相关的答案，提示将返回“我不知道”。"
   ]
  },
  {
   "cell_type": "markdown",
   "id": "006fa517",
   "metadata": {},
   "source": [
    "可以使用 text-davinci-003通过返回词端点创建一个实际的问题答案。"
   ]
  },
  {
   "cell_type": "code",
   "execution_count": null,
   "id": "5a470892",
   "metadata": {},
   "outputs": [],
   "source": [
    "def answer_question(\n",
    "    df,\n",
    "    model=\"text-davinci-003\",\n",
    "    question=\"Am I allowed to publish model outputs to Twitter, without a human review?\",\n",
    "    max_len=1800,\n",
    "    size=\"ada\",\n",
    "    debug=False,\n",
    "    max_tokens=150,\n",
    "    stop_sequence=None\n",
    "):\n",
    "    \"\"\"\n",
    "    根据数据框文本中最相似的上下文回答问题\n",
    "    \"\"\"\n",
    "    context = create_context(\n",
    "        question,\n",
    "        df,\n",
    "        max_len=max_len,\n",
    "        size=size,\n",
    "    )\n",
    "    # 如果需要调试，则打印原始模型响应\n",
    "    if debug:\n",
    "        print(\"Context:\\n\" + context)\n",
    "        print(\"\\n\\n\")\n",
    "\n",
    "    try:\n",
    "        # 使用问题和上下文创建一个完成句\n",
    "        response = openai.Completion.create(\n",
    "            prompt=f\"Answer the question based on the context below, and if the question can't be answered based on the context, say \\\"I don't know\\\"\\n\\nContext: {context}\\n\\n---\\n\\nQuestion: {question}\\nAnswer:\",\n",
    "            temperature=0,\n",
    "            max_tokens=max_tokens,\n",
    "            top_p=1,\n",
    "            frequency_penalty=0,\n",
    "            presence_penalty=0,\n",
    "            stop=stop_sequence,\n",
    "            model=model,\n",
    "        )\n",
    "        return response[\"choices\"][0][\"text\"].strip()\n",
    "    except Exception as e:\n",
    "        print(e)\n",
    "        return \"\""
   ]
  },
  {
   "cell_type": "markdown",
   "id": "ee5b1d79",
   "metadata": {},
   "source": [
    "结束了！现在已经准备好了一个可以工作的问答系统，其中包含了来自 OpenAI 网站的知识。可以进行一些快速测试来查看输出的质量:"
   ]
  },
  {
   "cell_type": "code",
   "execution_count": null,
   "id": "c0394dc5",
   "metadata": {},
   "outputs": [],
   "source": [
    "answer_question(df, question=\"What day is it?\", debug=False)\n",
    "\n",
    "answer_question(df, question=\"What is our newest embeddings model?\")\n",
    "\n",
    "answer_question(df, question=\"What is ChatGPT?\")"
   ]
  },
  {
   "cell_type": "markdown",
   "id": "09e59bb3",
   "metadata": {},
   "source": [
    "回复内容如下:"
   ]
  },
  {
   "cell_type": "markdown",
   "id": "abcda2fd",
   "metadata": {},
   "source": [
    "\"I don't know.\"\n",
    "\n",
    "'The newest embeddings model is text-embedding-ada-002.'\n",
    "\n",
    "'ChatGPT is a model trained to interact in a conversational way. It is able to answer followup questions, admit its mistakes, challenge incorrect premises, and reject inappropriate requests.'"
   ]
  },
  {
   "cell_type": "markdown",
   "id": "a268de3f",
   "metadata": {},
   "source": [
    "如果系统不能回答预期的问题，那么值得在原始文本文件中搜索，以查看预期的已知信息是否最终被向量化。最初完成的爬虫过程被设置为跳过提供的原始域之外的站点，所以如果有子域设置，它可能不具备这方面的知识。"
   ]
  },
  {
   "cell_type": "markdown",
   "id": "019f9ee7",
   "metadata": {},
   "source": [
    "目前，每次都会传入数据框来回答一个问题。对于更多的生产工作流，应该使用向量数据库解决方案，而不是将嵌入存储在 CSV 文件中，但是当前的方法是一个很好的原型选择。"
   ]
  }
 ],
 "metadata": {
  "kernelspec": {
   "display_name": "Python 3 (ipykernel)",
   "language": "python",
   "name": "python3"
  },
  "language_info": {
   "codemirror_mode": {
    "name": "ipython",
    "version": 3
   },
   "file_extension": ".py",
   "mimetype": "text/x-python",
   "name": "python",
   "nbconvert_exporter": "python",
   "pygments_lexer": "ipython3",
   "version": "3.10.9"
  }
 },
 "nbformat": 4,
 "nbformat_minor": 5
}
